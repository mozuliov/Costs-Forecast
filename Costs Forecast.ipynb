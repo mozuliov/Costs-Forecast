{
 "cells": [
  {
   "cell_type": "markdown",
   "metadata": {},
   "source": [
    "# Raw Materials Costs Forecast\n",
    "### Wood Chips Costs as example"
   ]
  },
  {
   "cell_type": "markdown",
   "metadata": {},
   "source": [
    "[Catalyst Paper](https://www.catalystpaper.com/) manufactures diverse paper saling it to retailers, publishers and commercial printers in North America, Latin America, the Pacific Rim and Europe. Company's production located in Canada and USA. \n",
    "Canadian facilities operate in British Columbia and purchase wood chips, which is the major raw material primarily in British Columbia. However, since wood chips is a global commodity, the price in Canadian Dollars highly correlates with exchange rate.\n",
    "\n",
    "Becides exchange rate chips prices is subject for seasonality and general inflation.\n",
    "Also, big wildfires in British Columbia in 2017 which destroyed 1.2 million hectars of forests show the significant impact wildfires on forestry products.\n",
    "\n"
   ]
  },
  {
   "cell_type": "markdown",
   "metadata": {},
   "source": [
    "We use the modified data set on wood chips prices, which does not represent any actual data for any actual company and used fro demostration purposes only. CAD to USD exchange rates brought from [Bank of Canada](https://www.bankofcanada.ca/rates/exchange/)"
   ]
  },
  {
   "cell_type": "code",
   "execution_count": 2,
   "metadata": {},
   "outputs": [],
   "source": [
    "# Prepare the environment\n",
    "library(ggplot2)\n",
    "library(data.table)\n",
    "library(dplyr)"
   ]
  },
  {
   "cell_type": "code",
   "execution_count": 9,
   "metadata": {},
   "outputs": [
    {
     "data": {
      "text/html": [
       "<table>\n",
       "<thead><tr><th scope=col>MEDate</th><th scope=col>YYYY</th><th scope=col>Mmm</th><th scope=col>Month</th><th scope=col>Site</th><th scope=col>ProductGroup</th><th scope=col>CostElement</th><th scope=col>CAD.MT</th><th scope=col>CAD.USD</th></tr></thead>\n",
       "<tbody>\n",
       "\t<tr><td>2011-01-31</td><td>2011      </td><td>Jan       </td><td>Jan-11    </td><td>16        </td><td>A1658     </td><td>Chips     </td><td>116.17    </td><td>0.9938    </td></tr>\n",
       "\t<tr><td>2011-02-28</td><td>2011      </td><td>Feb       </td><td>Feb-11    </td><td>16        </td><td>A1658     </td><td>Chips     </td><td>122.78    </td><td>0.9876    </td></tr>\n",
       "\t<tr><td>2011-03-31</td><td>2011      </td><td>Mar       </td><td>Mar-11    </td><td>16        </td><td>A1658     </td><td>Chips     </td><td>123.77    </td><td>0.9766    </td></tr>\n",
       "\t<tr><td>2011-04-30</td><td>2011      </td><td>Apr       </td><td>Apr-11    </td><td>16        </td><td>A1658     </td><td>Chips     </td><td>124.18    </td><td>0.9582    </td></tr>\n",
       "\t<tr><td>2011-05-31</td><td>2011      </td><td>May       </td><td>May-11    </td><td>16        </td><td>A1658     </td><td>Chips     </td><td>122.60    </td><td>0.9680    </td></tr>\n",
       "\t<tr><td>2011-06-30</td><td>2011      </td><td>Jun       </td><td>Jun-11    </td><td>16        </td><td>A1658     </td><td>Chips     </td><td>127.85    </td><td>0.9768    </td></tr>\n",
       "</tbody>\n",
       "</table>\n"
      ],
      "text/latex": [
       "\\begin{tabular}{r|lllllllll}\n",
       " MEDate & YYYY & Mmm & Month & Site & ProductGroup & CostElement & CAD.MT & CAD.USD\\\\\n",
       "\\hline\n",
       "\t 2011-01-31 & 2011       & Jan        & Jan-11     & 16         & A1658      & Chips      & 116.17     & 0.9938    \\\\\n",
       "\t 2011-02-28 & 2011       & Feb        & Feb-11     & 16         & A1658      & Chips      & 122.78     & 0.9876    \\\\\n",
       "\t 2011-03-31 & 2011       & Mar        & Mar-11     & 16         & A1658      & Chips      & 123.77     & 0.9766    \\\\\n",
       "\t 2011-04-30 & 2011       & Apr        & Apr-11     & 16         & A1658      & Chips      & 124.18     & 0.9582    \\\\\n",
       "\t 2011-05-31 & 2011       & May        & May-11     & 16         & A1658      & Chips      & 122.60     & 0.9680    \\\\\n",
       "\t 2011-06-30 & 2011       & Jun        & Jun-11     & 16         & A1658      & Chips      & 127.85     & 0.9768    \\\\\n",
       "\\end{tabular}\n"
      ],
      "text/markdown": [
       "\n",
       "MEDate | YYYY | Mmm | Month | Site | ProductGroup | CostElement | CAD.MT | CAD.USD | \n",
       "|---|---|---|---|---|---|\n",
       "| 2011-01-31 | 2011       | Jan        | Jan-11     | 16         | A1658      | Chips      | 116.17     | 0.9938     | \n",
       "| 2011-02-28 | 2011       | Feb        | Feb-11     | 16         | A1658      | Chips      | 122.78     | 0.9876     | \n",
       "| 2011-03-31 | 2011       | Mar        | Mar-11     | 16         | A1658      | Chips      | 123.77     | 0.9766     | \n",
       "| 2011-04-30 | 2011       | Apr        | Apr-11     | 16         | A1658      | Chips      | 124.18     | 0.9582     | \n",
       "| 2011-05-31 | 2011       | May        | May-11     | 16         | A1658      | Chips      | 122.60     | 0.9680     | \n",
       "| 2011-06-30 | 2011       | Jun        | Jun-11     | 16         | A1658      | Chips      | 127.85     | 0.9768     | \n",
       "\n",
       "\n"
      ],
      "text/plain": [
       "  MEDate     YYYY Mmm Month  Site ProductGroup CostElement CAD.MT CAD.USD\n",
       "1 2011-01-31 2011 Jan Jan-11 16   A1658        Chips       116.17 0.9938 \n",
       "2 2011-02-28 2011 Feb Feb-11 16   A1658        Chips       122.78 0.9876 \n",
       "3 2011-03-31 2011 Mar Mar-11 16   A1658        Chips       123.77 0.9766 \n",
       "4 2011-04-30 2011 Apr Apr-11 16   A1658        Chips       124.18 0.9582 \n",
       "5 2011-05-31 2011 May May-11 16   A1658        Chips       122.60 0.9680 \n",
       "6 2011-06-30 2011 Jun Jun-11 16   A1658        Chips       127.85 0.9768 "
      ]
     },
     "metadata": {},
     "output_type": "display_data"
    }
   ],
   "source": [
    "# Getting data\n",
    "df.chips <- read.csv(\"Chips.csv\")\n",
    "df.fx <- read.csv(\"FX.csv\")\n",
    "data <- merge(df.chips, df.fx, by = c(\"MEDate\", \"YYYY\", \"Mmm\", \"Month\"))\n",
    "head(data)"
   ]
  },
  {
   "cell_type": "markdown",
   "metadata": {},
   "source": [
    "For the purpose of this exercise we will analyse inflation and seasonality first. After that we will add exchange rate impact to our model and finaly include wildfire data."
   ]
  },
  {
   "cell_type": "markdown",
   "metadata": {},
   "source": [
    "## Inflation"
   ]
  },
  {
   "cell_type": "markdown",
   "metadata": {},
   "source": []
  },
  {
   "cell_type": "code",
   "execution_count": 10,
   "metadata": {
    "scrolled": true
   },
   "outputs": [
    {
     "data": {
      "text/plain": [
       "\n",
       "Call:\n",
       "lm(formula = CAD.MT ~ YYYY, data = data)\n",
       "\n",
       "Residuals:\n",
       "     Min       1Q   Median       3Q      Max \n",
       "-16.5117  -5.0600  -0.6026   5.2440  13.1573 \n",
       "\n",
       "Coefficients:\n",
       "              Estimate Std. Error t value Pr(>|t|)    \n",
       "(Intercept) -4062.4555   761.9575  -5.332 8.41e-07 ***\n",
       "YYYY            2.0782     0.3783   5.493 4.33e-07 ***\n",
       "---\n",
       "Signif. codes:  0 '***' 0.001 '**' 0.01 '*' 0.05 '.' 0.1 ' ' 1\n",
       "\n",
       "Residual standard error: 6.935 on 82 degrees of freedom\n",
       "Multiple R-squared:  0.269,\tAdjusted R-squared:  0.2601 \n",
       "F-statistic: 30.17 on 1 and 82 DF,  p-value: 4.33e-07\n"
      ]
     },
     "metadata": {},
     "output_type": "display_data"
    }
   ],
   "source": [
    "# Converting chips costs to USD \n",
    "data$USD.MT <- data$CAD.MT / data$CAD.USD\n",
    "lrmodel1 <- lm(CAD.MT ~ YYYY, data = data)\n",
    "summary(lrmodel1)"
   ]
  },
  {
   "cell_type": "markdown",
   "metadata": {},
   "source": [
    "## Seasonality"
   ]
  },
  {
   "cell_type": "markdown",
   "metadata": {},
   "source": [
    "Briefly looking at the data we see the general growing trend over the course of the time. We will be recognizing that general growing trend with seasonal volatility as inflation with one exception: isolate the exchange rate and consider it as a separate factor."
   ]
  },
  {
   "cell_type": "code",
   "execution_count": 11,
   "metadata": {},
   "outputs": [
    {
     "data": {
      "text/html": [
       "<table>\n",
       "<tbody>\n",
       "\t<tr><th scope=row>Jan</th><td>-6.9965044</td></tr>\n",
       "\t<tr><th scope=row>Feb</th><td> 2.0816767</td></tr>\n",
       "\t<tr><th scope=row>Mar</th><td> 2.6592342</td></tr>\n",
       "\t<tr><th scope=row>Apr</th><td> 5.3124853</td></tr>\n",
       "\t<tr><th scope=row>May</th><td>-6.3618941</td></tr>\n",
       "\t<tr><th scope=row>Jun</th><td> 0.4534066</td></tr>\n",
       "</tbody>\n",
       "</table>\n"
      ],
      "text/latex": [
       "\\begin{tabular}{r|l}\n",
       "\tJan & -6.9965044\\\\\n",
       "\tFeb &  2.0816767\\\\\n",
       "\tMar &  2.6592342\\\\\n",
       "\tApr &  5.3124853\\\\\n",
       "\tMay & -6.3618941\\\\\n",
       "\tJun &  0.4534066\\\\\n",
       "\\end{tabular}\n"
      ],
      "text/markdown": [
       "\n",
       "| Jan | -6.9965044 | \n",
       "| Feb |  2.0816767 | \n",
       "| Mar |  2.6592342 | \n",
       "| Apr |  5.3124853 | \n",
       "| May | -6.3618941 | \n",
       "| Jun |  0.4534066 | \n",
       "\n",
       "\n"
      ],
      "text/plain": [
       "    [,1]      \n",
       "Jan -6.9965044\n",
       "Feb  2.0816767\n",
       "Mar  2.6592342\n",
       "Apr  5.3124853\n",
       "May -6.3618941\n",
       "Jun  0.4534066"
      ]
     },
     "metadata": {},
     "output_type": "display_data"
    }
   ],
   "source": [
    "# Shift Chip Prices in USD by one month lagging\n",
    "data$USD.MT.lagged <- shift(data$USD.MT, n = 1, fill = data[1,10], type = \"lag\")\n",
    "data$Seasonality <- data$USD.MT - data$USD.MT.lagged\n",
    "\n",
    "# Historical seasonality ratios by month(rows) and year(columns)\n",
    "M.Seasonality <- matrix(data$Seasonality, nrow = 12)\n",
    "colnames(M.Seasonality) <- unique(data$YYYY)\n",
    "rownames(M.Seasonality) <- unique(data$Mmm)\n",
    "\n",
    "# Calculate average inflation per month\n",
    "Avg.Seasonality <- matrix(0, nrow = 12)\n",
    "for (Mnth in 1:12){\n",
    "  Avg.Seasonality[Mnth] <- mean(M.Seasonality[Mnth,])\n",
    "}\n",
    "rownames(Avg.Seasonality) <- unique(data$Mmm)\n",
    "head(Avg.Seasonality)"
   ]
  },
  {
   "cell_type": "code",
   "execution_count": 12,
   "metadata": {
    "scrolled": true
   },
   "outputs": [
    {
     "data": {
      "text/html": [
       "<table>\n",
       "<thead><tr><th scope=col>Mmm</th><th scope=col>MEDate</th><th scope=col>YYYY</th><th scope=col>Month</th><th scope=col>Site</th><th scope=col>ProductGroup</th><th scope=col>CostElement</th><th scope=col>CAD.MT</th><th scope=col>CAD.USD</th><th scope=col>USD.MT</th><th scope=col>USD.MT.lagged</th><th scope=col>Seasonality</th><th scope=col>Avg.Seasonality</th></tr></thead>\n",
       "<tbody>\n",
       "\t<tr><td>Apr       </td><td>2011-04-30</td><td>2011      </td><td>Apr-11    </td><td>16        </td><td>A1658     </td><td>Chips     </td><td>124.18    </td><td>0.9582    </td><td>129.59716 </td><td>126.73561 </td><td>2.861548  </td><td>5.312485  </td></tr>\n",
       "\t<tr><td>Apr       </td><td>2012-04-30</td><td>2012      </td><td>Apr-12    </td><td>16        </td><td>A1658     </td><td>Chips     </td><td>126.85    </td><td>0.9926    </td><td>127.79569 </td><td>118.78459 </td><td>9.011102  </td><td>5.312485  </td></tr>\n",
       "\t<tr><td>Apr       </td><td>2017-04-30</td><td>2017      </td><td>Apr-17    </td><td>16        </td><td>A1658     </td><td>Chips     </td><td>134.36    </td><td>1.3444    </td><td> 99.94049 </td><td> 96.69107 </td><td>3.249427  </td><td>5.312485  </td></tr>\n",
       "\t<tr><td>Apr       </td><td>2016-04-30</td><td>2016      </td><td>Apr-16    </td><td>16        </td><td>A1658     </td><td>Chips     </td><td>124.68    </td><td>1.2819    </td><td> 97.26188 </td><td> 90.74550 </td><td>6.516376  </td><td>5.312485  </td></tr>\n",
       "\t<tr><td>Apr       </td><td>2013-04-30</td><td>2013      </td><td>Apr-13    </td><td>16        </td><td>A1658     </td><td>Chips     </td><td>126.11    </td><td>1.0187    </td><td>123.79503 </td><td>119.23490 </td><td>4.560135  </td><td>5.312485  </td></tr>\n",
       "\t<tr><td>Apr       </td><td>2014-04-30</td><td>2014      </td><td>Apr-14    </td><td>16        </td><td>A1658     </td><td>Chips     </td><td>130.55    </td><td>1.0991    </td><td>118.77900 </td><td>113.05483 </td><td>5.724171  </td><td>5.312485  </td></tr>\n",
       "</tbody>\n",
       "</table>\n"
      ],
      "text/latex": [
       "\\begin{tabular}{r|lllllllllllll}\n",
       " Mmm & MEDate & YYYY & Month & Site & ProductGroup & CostElement & CAD.MT & CAD.USD & USD.MT & USD.MT.lagged & Seasonality & Avg.Seasonality\\\\\n",
       "\\hline\n",
       "\t Apr        & 2011-04-30 & 2011       & Apr-11     & 16         & A1658      & Chips      & 124.18     & 0.9582     & 129.59716  & 126.73561  & 2.861548   & 5.312485  \\\\\n",
       "\t Apr        & 2012-04-30 & 2012       & Apr-12     & 16         & A1658      & Chips      & 126.85     & 0.9926     & 127.79569  & 118.78459  & 9.011102   & 5.312485  \\\\\n",
       "\t Apr        & 2017-04-30 & 2017       & Apr-17     & 16         & A1658      & Chips      & 134.36     & 1.3444     &  99.94049  &  96.69107  & 3.249427   & 5.312485  \\\\\n",
       "\t Apr        & 2016-04-30 & 2016       & Apr-16     & 16         & A1658      & Chips      & 124.68     & 1.2819     &  97.26188  &  90.74550  & 6.516376   & 5.312485  \\\\\n",
       "\t Apr        & 2013-04-30 & 2013       & Apr-13     & 16         & A1658      & Chips      & 126.11     & 1.0187     & 123.79503  & 119.23490  & 4.560135   & 5.312485  \\\\\n",
       "\t Apr        & 2014-04-30 & 2014       & Apr-14     & 16         & A1658      & Chips      & 130.55     & 1.0991     & 118.77900  & 113.05483  & 5.724171   & 5.312485  \\\\\n",
       "\\end{tabular}\n"
      ],
      "text/markdown": [
       "\n",
       "Mmm | MEDate | YYYY | Month | Site | ProductGroup | CostElement | CAD.MT | CAD.USD | USD.MT | USD.MT.lagged | Seasonality | Avg.Seasonality | \n",
       "|---|---|---|---|---|---|\n",
       "| Apr        | 2011-04-30 | 2011       | Apr-11     | 16         | A1658      | Chips      | 124.18     | 0.9582     | 129.59716  | 126.73561  | 2.861548   | 5.312485   | \n",
       "| Apr        | 2012-04-30 | 2012       | Apr-12     | 16         | A1658      | Chips      | 126.85     | 0.9926     | 127.79569  | 118.78459  | 9.011102   | 5.312485   | \n",
       "| Apr        | 2017-04-30 | 2017       | Apr-17     | 16         | A1658      | Chips      | 134.36     | 1.3444     |  99.94049  |  96.69107  | 3.249427   | 5.312485   | \n",
       "| Apr        | 2016-04-30 | 2016       | Apr-16     | 16         | A1658      | Chips      | 124.68     | 1.2819     |  97.26188  |  90.74550  | 6.516376   | 5.312485   | \n",
       "| Apr        | 2013-04-30 | 2013       | Apr-13     | 16         | A1658      | Chips      | 126.11     | 1.0187     | 123.79503  | 119.23490  | 4.560135   | 5.312485   | \n",
       "| Apr        | 2014-04-30 | 2014       | Apr-14     | 16         | A1658      | Chips      | 130.55     | 1.0991     | 118.77900  | 113.05483  | 5.724171   | 5.312485   | \n",
       "\n",
       "\n"
      ],
      "text/plain": [
       "  Mmm MEDate     YYYY Month  Site ProductGroup CostElement CAD.MT CAD.USD\n",
       "1 Apr 2011-04-30 2011 Apr-11 16   A1658        Chips       124.18 0.9582 \n",
       "2 Apr 2012-04-30 2012 Apr-12 16   A1658        Chips       126.85 0.9926 \n",
       "3 Apr 2017-04-30 2017 Apr-17 16   A1658        Chips       134.36 1.3444 \n",
       "4 Apr 2016-04-30 2016 Apr-16 16   A1658        Chips       124.68 1.2819 \n",
       "5 Apr 2013-04-30 2013 Apr-13 16   A1658        Chips       126.11 1.0187 \n",
       "6 Apr 2014-04-30 2014 Apr-14 16   A1658        Chips       130.55 1.0991 \n",
       "  USD.MT    USD.MT.lagged Seasonality Avg.Seasonality\n",
       "1 129.59716 126.73561     2.861548    5.312485       \n",
       "2 127.79569 118.78459     9.011102    5.312485       \n",
       "3  99.94049  96.69107     3.249427    5.312485       \n",
       "4  97.26188  90.74550     6.516376    5.312485       \n",
       "5 123.79503 119.23490     4.560135    5.312485       \n",
       "6 118.77900 113.05483     5.724171    5.312485       "
      ]
     },
     "metadata": {},
     "output_type": "display_data"
    }
   ],
   "source": [
    "# Add Average Seasonality to the data frame\n",
    "DF.Avg.Seasonality <- data.frame(Avg.Seasonality)\n",
    "DF.Avg.Seasonality$Mmm <- rownames(Avg.Seasonality)\n",
    "data <- merge(data, DF.Avg.Seasonality, by = \"Mmm\")\n",
    "head(data)"
   ]
  },
  {
   "cell_type": "markdown",
   "metadata": {},
   "source": [
    "Since we have data prepared run regression for Chips Prices in CAD against inflation:"
   ]
  },
  {
   "cell_type": "code",
   "execution_count": 15,
   "metadata": {},
   "outputs": [
    {
     "data": {
      "text/plain": [
       "\n",
       "Call:\n",
       "lm(formula = data$CAD.MT ~ data$Avg.Seasonality + data$YYYY)\n",
       "\n",
       "Residuals:\n",
       "     Min       1Q   Median       3Q      Max \n",
       "-15.9632  -4.3835  -0.8481   4.5355  14.3128 \n",
       "\n",
       "Coefficients:\n",
       "                       Estimate Std. Error t value Pr(>|t|)    \n",
       "(Intercept)          -4062.4161   725.3772  -5.600 2.84e-07 ***\n",
       "data$Avg.Seasonality     0.5601     0.1819   3.079  0.00284 ** \n",
       "data$YYYY                2.0782     0.3602   5.770 1.40e-07 ***\n",
       "---\n",
       "Signif. codes:  0 '***' 0.001 '**' 0.01 '*' 0.05 '.' 0.1 ' ' 1\n",
       "\n",
       "Residual standard error: 6.602 on 81 degrees of freedom\n",
       "Multiple R-squared:  0.3456,\tAdjusted R-squared:  0.3294 \n",
       "F-statistic: 21.39 on 2 and 81 DF,  p-value: 3.485e-08\n"
      ]
     },
     "metadata": {},
     "output_type": "display_data"
    }
   ],
   "source": [
    "# Simple regression Chips price in CAD against Inflation\n",
    "lrmodel2 <- lm(data$CAD.MT ~ data$Avg.Seasonality + data$YYYY)\n",
    "summary(lrmodel2)"
   ]
  },
  {
   "cell_type": "markdown",
   "metadata": {},
   "source": [
    "## FX rate"
   ]
  },
  {
   "cell_type": "markdown",
   "metadata": {},
   "source": [
    "We already have exchange rate as separate independant variable in separate column. Just add it to the model:"
   ]
  },
  {
   "cell_type": "code",
   "execution_count": 25,
   "metadata": {},
   "outputs": [
    {
     "data": {
      "text/plain": [
       "\n",
       "Call:\n",
       "lm(formula = data$CAD.MT ~ data$Avg.Seasonality + data$YYYY + \n",
       "    data$CAD.USD)\n",
       "\n",
       "Residuals:\n",
       "     Min       1Q   Median       3Q      Max \n",
       "-16.1698  -4.0593  -0.2585   3.9653  13.6983 \n",
       "\n",
       "Coefficients:\n",
       "                       Estimate Std. Error t value Pr(>|t|)  \n",
       "(Intercept)          -2269.7288  2276.6080  -0.997   0.3231  \n",
       "data$Avg.Seasonality     0.4526     0.2350   1.926   0.0592 .\n",
       "data$YYYY                1.1832     1.1389   1.039   0.3033  \n",
       "data$CAD.USD             8.4429    16.2333   0.520   0.6050  \n",
       "---\n",
       "Signif. codes:  0 '***' 0.001 '**' 0.01 '*' 0.05 '.' 0.1 ' ' 1\n",
       "\n",
       "Residual standard error: 6.532 on 56 degrees of freedom\n",
       "Multiple R-squared:  0.2652,\tAdjusted R-squared:  0.2258 \n",
       "F-statistic: 6.737 on 3 and 56 DF,  p-value: 0.0005833\n"
      ]
     },
     "metadata": {},
     "output_type": "display_data"
    }
   ],
   "source": [
    "# Multiple regression Chips price in CAD against Inflation and FX\n",
    "lrmodel3 <- lm(data$CAD.MT ~ data$Avg.Seasonality + data$YYYY + data$CAD.USD)\n",
    "summary(lrmodel3)"
   ]
  },
  {
   "cell_type": "markdown",
   "metadata": {},
   "source": [
    "## Wildfires impact on Chips Price"
   ]
  },
  {
   "cell_type": "markdown",
   "metadata": {},
   "source": [
    "Wildfires sometimes have significant impact on forestry products supply and consequently influence wood chips prices. Using Fire Perimeters - Historical dataset published by the Ministry of Forests, Lands, Natural Resource Operations and Rural Development - BC Wildfire Services we apply area of wildfires by month occur in British Columbia.\n",
    "We import this data as it came from the source and need to work on it before add to our data frame."
   ]
  },
  {
   "cell_type": "code",
   "execution_count": 17,
   "metadata": {},
   "outputs": [
    {
     "data": {
      "text/html": [
       "<table>\n",
       "<thead><tr><th scope=col>SOURCE</th><th scope=col>VERSION_NO</th><th scope=col>FIRE_CAUSE</th><th scope=col>SIZE_HA</th><th scope=col>FIRE_YEAR</th><th scope=col>TRACK_DATE</th><th scope=col>LOAD_DATE</th><th scope=col>FIRE_NO</th><th scope=col>FIRE_DATE</th><th scope=col>FIRELABEL</th><th scope=col>FCODE</th><th scope=col>METHOD</th><th scope=col>OBJECTID</th><th scope=col>SHAPE</th><th scope=col>X</th><th scope=col>Y</th></tr></thead>\n",
       "<tbody>\n",
       "\t<tr><td>linens      </td><td>NA          </td><td>Person      </td><td>1510.4      </td><td>1932        </td><td>NA          </td><td>2.007052e+13</td><td>106         </td><td>1.932072e+13</td><td>1932-106    </td><td>JA70003000  </td><td>digitised   </td><td>128146      </td><td>NA          </td><td>NA          </td><td>NA          </td></tr>\n",
       "\t<tr><td>linens      </td><td>NA          </td><td>Lightning   </td><td>1459.4      </td><td>1936        </td><td>NA          </td><td>2.007052e+13</td><td>122         </td><td>1.936063e+13</td><td>1936-122    </td><td>JA70003000  </td><td>digitised   </td><td>128147      </td><td>NA          </td><td>NA          </td><td>NA          </td></tr>\n",
       "\t<tr><td>linens      </td><td>NA          </td><td>Person      </td><td>   6.5      </td><td>1935        </td><td>NA          </td><td>2.007052e+13</td><td>174         </td><td>1.935091e+13</td><td>1935-174    </td><td>JA70003000  </td><td>digitised   </td><td>128148      </td><td>NA          </td><td>NA          </td><td>NA          </td></tr>\n",
       "\t<tr><td>linens      </td><td>NA          </td><td>Person      </td><td>  15.0      </td><td>1931        </td><td>NA          </td><td>2.007052e+13</td><td>18          </td><td>1.931043e+13</td><td>1931-18     </td><td>JA70003000  </td><td>digitised   </td><td>128149      </td><td>NA          </td><td>NA          </td><td>NA          </td></tr>\n",
       "\t<tr><td>linens      </td><td>NA          </td><td>Person      </td><td>  73.6      </td><td>1931        </td><td>NA          </td><td>2.007052e+13</td><td>19          </td><td>1.931043e+13</td><td>1931-19     </td><td>JA70003000  </td><td>digitised   </td><td>128150      </td><td>NA          </td><td>NA          </td><td>NA          </td></tr>\n",
       "\t<tr><td>linens      </td><td>NA          </td><td>Person      </td><td> 146.8      </td><td>1931        </td><td>NA          </td><td>2.007052e+13</td><td>20          </td><td>1.931043e+13</td><td>1931-20     </td><td>JA70003000  </td><td>digitised   </td><td>128151      </td><td>NA          </td><td>NA          </td><td>NA          </td></tr>\n",
       "</tbody>\n",
       "</table>\n"
      ],
      "text/latex": [
       "\\begin{tabular}{r|llllllllllllllll}\n",
       " SOURCE & VERSION\\_NO & FIRE\\_CAUSE & SIZE\\_HA & FIRE\\_YEAR & TRACK\\_DATE & LOAD\\_DATE & FIRE\\_NO & FIRE\\_DATE & FIRELABEL & FCODE & METHOD & OBJECTID & SHAPE & X & Y\\\\\n",
       "\\hline\n",
       "\t linens       & NA           & Person       & 1510.4       & 1932         & NA           & 2.007052e+13 & 106          & 1.932072e+13 & 1932-106     & JA70003000   & digitised    & 128146       & NA           & NA           & NA          \\\\\n",
       "\t linens       & NA           & Lightning    & 1459.4       & 1936         & NA           & 2.007052e+13 & 122          & 1.936063e+13 & 1936-122     & JA70003000   & digitised    & 128147       & NA           & NA           & NA          \\\\\n",
       "\t linens       & NA           & Person       &    6.5       & 1935         & NA           & 2.007052e+13 & 174          & 1.935091e+13 & 1935-174     & JA70003000   & digitised    & 128148       & NA           & NA           & NA          \\\\\n",
       "\t linens       & NA           & Person       &   15.0       & 1931         & NA           & 2.007052e+13 & 18           & 1.931043e+13 & 1931-18      & JA70003000   & digitised    & 128149       & NA           & NA           & NA          \\\\\n",
       "\t linens       & NA           & Person       &   73.6       & 1931         & NA           & 2.007052e+13 & 19           & 1.931043e+13 & 1931-19      & JA70003000   & digitised    & 128150       & NA           & NA           & NA          \\\\\n",
       "\t linens       & NA           & Person       &  146.8       & 1931         & NA           & 2.007052e+13 & 20           & 1.931043e+13 & 1931-20      & JA70003000   & digitised    & 128151       & NA           & NA           & NA          \\\\\n",
       "\\end{tabular}\n"
      ],
      "text/markdown": [
       "\n",
       "SOURCE | VERSION_NO | FIRE_CAUSE | SIZE_HA | FIRE_YEAR | TRACK_DATE | LOAD_DATE | FIRE_NO | FIRE_DATE | FIRELABEL | FCODE | METHOD | OBJECTID | SHAPE | X | Y | \n",
       "|---|---|---|---|---|---|\n",
       "| linens       | NA           | Person       | 1510.4       | 1932         | NA           | 2.007052e+13 | 106          | 1.932072e+13 | 1932-106     | JA70003000   | digitised    | 128146       | NA           | NA           | NA           | \n",
       "| linens       | NA           | Lightning    | 1459.4       | 1936         | NA           | 2.007052e+13 | 122          | 1.936063e+13 | 1936-122     | JA70003000   | digitised    | 128147       | NA           | NA           | NA           | \n",
       "| linens       | NA           | Person       |    6.5       | 1935         | NA           | 2.007052e+13 | 174          | 1.935091e+13 | 1935-174     | JA70003000   | digitised    | 128148       | NA           | NA           | NA           | \n",
       "| linens       | NA           | Person       |   15.0       | 1931         | NA           | 2.007052e+13 | 18           | 1.931043e+13 | 1931-18      | JA70003000   | digitised    | 128149       | NA           | NA           | NA           | \n",
       "| linens       | NA           | Person       |   73.6       | 1931         | NA           | 2.007052e+13 | 19           | 1.931043e+13 | 1931-19      | JA70003000   | digitised    | 128150       | NA           | NA           | NA           | \n",
       "| linens       | NA           | Person       |  146.8       | 1931         | NA           | 2.007052e+13 | 20           | 1.931043e+13 | 1931-20      | JA70003000   | digitised    | 128151       | NA           | NA           | NA           | \n",
       "\n",
       "\n"
      ],
      "text/plain": [
       "  SOURCE VERSION_NO FIRE_CAUSE SIZE_HA FIRE_YEAR TRACK_DATE LOAD_DATE   \n",
       "1 linens NA         Person     1510.4  1932      NA         2.007052e+13\n",
       "2 linens NA         Lightning  1459.4  1936      NA         2.007052e+13\n",
       "3 linens NA         Person        6.5  1935      NA         2.007052e+13\n",
       "4 linens NA         Person       15.0  1931      NA         2.007052e+13\n",
       "5 linens NA         Person       73.6  1931      NA         2.007052e+13\n",
       "6 linens NA         Person      146.8  1931      NA         2.007052e+13\n",
       "  FIRE_NO FIRE_DATE    FIRELABEL FCODE      METHOD    OBJECTID SHAPE X  Y \n",
       "1 106     1.932072e+13 1932-106  JA70003000 digitised 128146   NA    NA NA\n",
       "2 122     1.936063e+13 1936-122  JA70003000 digitised 128147   NA    NA NA\n",
       "3 174     1.935091e+13 1935-174  JA70003000 digitised 128148   NA    NA NA\n",
       "4 18      1.931043e+13 1931-18   JA70003000 digitised 128149   NA    NA NA\n",
       "5 19      1.931043e+13 1931-19   JA70003000 digitised 128150   NA    NA NA\n",
       "6 20      1.931043e+13 1931-20   JA70003000 digitised 128151   NA    NA NA"
      ]
     },
     "metadata": {},
     "output_type": "display_data"
    }
   ],
   "source": [
    "df.wildfires <- read.csv(\"H_FIRE_PLY.csv\")                # Dataset as it is provided by the source\n",
    "head(df.wildfires)"
   ]
  },
  {
   "cell_type": "code",
   "execution_count": 18,
   "metadata": {
    "scrolled": true
   },
   "outputs": [
    {
     "data": {
      "text/html": [
       "<table>\n",
       "<thead><tr><th scope=col>SOURCE</th><th scope=col>VERSION_NO</th><th scope=col>FIRE_CAUSE</th><th scope=col>SIZE_HA</th><th scope=col>FIRE_YEAR</th><th scope=col>TRACK_DATE</th><th scope=col>LOAD_DATE</th><th scope=col>FIRE_NO</th><th scope=col>FIRE_DATE</th><th scope=col>FIRELABEL</th><th scope=col>FCODE</th><th scope=col>METHOD</th><th scope=col>OBJECTID</th><th scope=col>SHAPE</th><th scope=col>X</th><th scope=col>Y</th></tr></thead>\n",
       "<tbody>\n",
       "\t<tr><td>OZIX        </td><td>2012040701  </td><td>Person      </td><td>  10.6      </td><td>2012        </td><td>2.012041e+13</td><td>2.012041e+13</td><td>K60009      </td><td>2.012041e+13</td><td>2012-K60009 </td><td>JA70003000  </td><td>GPS-TRACK   </td><td>147949      </td><td>NA          </td><td>NA          </td><td>NA          </td></tr>\n",
       "\t<tr><td>OZIX        </td><td>2012041701  </td><td>Person      </td><td>   1.4      </td><td>2012        </td><td>2.012042e+13</td><td>2.012042e+13</td><td>C50006      </td><td>2.012041e+13</td><td>2012-C50006 </td><td>JA70003000  </td><td>GPS-TRACK   </td><td>147950      </td><td>NA          </td><td>NA          </td><td>NA          </td></tr>\n",
       "\t<tr><td>OZIX        </td><td>2012042202  </td><td>Person      </td><td>   6.6      </td><td>2012        </td><td>2.012042e+13</td><td>2.012042e+13</td><td>K60032      </td><td>2.012042e+13</td><td>2012-K60032 </td><td>JA70003000  </td><td>GPS-TRACK   </td><td>147951      </td><td>NA          </td><td>NA          </td><td>NA          </td></tr>\n",
       "\t<tr><td>OZIX        </td><td>2011102701  </td><td>Person      </td><td>  21.3      </td><td>2011        </td><td>2.011112e+13</td><td>2.011112e+13</td><td>G40141      </td><td>2.011102e+13</td><td>2011-G40141 </td><td>JA70003000  </td><td>GPS-TRACK   </td><td>147723      </td><td>NA          </td><td>NA          </td><td>NA          </td></tr>\n",
       "\t<tr><td>OZIX        </td><td>2011102801  </td><td>Person      </td><td> 106.7      </td><td>2011        </td><td>2.011112e+13</td><td>2.011112e+13</td><td>G40145      </td><td>2.011102e+13</td><td>2011-G40145 </td><td>JA70003000  </td><td>GPS-TRACK   </td><td>147724      </td><td>NA          </td><td>NA          </td><td>NA          </td></tr>\n",
       "\t<tr><td>OZIX        </td><td>2011103101  </td><td>Person      </td><td>  38.2      </td><td>2011        </td><td>2.011112e+13</td><td>2.011112e+13</td><td>G40150      </td><td>2.011102e+13</td><td>2011-G40150 </td><td>JA70003000  </td><td>GPS-TRACK   </td><td>147725      </td><td>NA          </td><td>NA          </td><td>NA          </td></tr>\n",
       "\t<tr><td>OZIX        </td><td>2011103101  </td><td>Person      </td><td>  14.6      </td><td>2011        </td><td>2.011112e+13</td><td>2.011112e+13</td><td>G40151      </td><td>2.011102e+13</td><td>2011-G40151 </td><td>JA70003000  </td><td>GPS-TRACK   </td><td>147726      </td><td>NA          </td><td>NA          </td><td>NA          </td></tr>\n",
       "\t<tr><td>OZIX        </td><td>2011110201  </td><td>Person      </td><td>  13.8      </td><td>2011        </td><td>2.011112e+13</td><td>2.011112e+13</td><td>G40154      </td><td>2.011103e+13</td><td>2011-G40154 </td><td>JA70003000  </td><td>GPS-TRACK   </td><td>147727      </td><td>NA          </td><td>NA          </td><td>NA          </td></tr>\n",
       "\t<tr><td>OZIX        </td><td>2011110202  </td><td>Person      </td><td> 103.0      </td><td>2011        </td><td>2.011113e+13</td><td>2.011113e+13</td><td>C10098      </td><td>2.011110e+13</td><td>2011-C10098 </td><td>JA70003000  </td><td>GPS-TRACK   </td><td>147728      </td><td>NA          </td><td>NA          </td><td>NA          </td></tr>\n",
       "\t<tr><td>OZIX        </td><td>2012031001  </td><td>Person      </td><td>   3.3      </td><td>2011        </td><td>2.012032e+13</td><td>2.012032e+13</td><td>K20781      </td><td>2.012031e+13</td><td>2011-K20781 </td><td>JA70003000  </td><td>GPS-TRACK   </td><td>147729      </td><td>NA          </td><td>NA          </td><td>NA          </td></tr>\n",
       "\t<tr><td>OZIX        </td><td>2012032201  </td><td>Person      </td><td>  13.1      </td><td>2011        </td><td>2.012032e+13</td><td>2.012032e+13</td><td>C40105      </td><td>2.012032e+13</td><td>2011-C40105 </td><td>JA70003000  </td><td>GPS-TRACK   </td><td>147730      </td><td>NA          </td><td>NA          </td><td>NA          </td></tr>\n",
       "\t<tr><td>OZIX        </td><td>2012082601  </td><td>Lightning   </td><td>1590.8      </td><td>2012        </td><td>2.012083e+13</td><td>2.012083e+13</td><td>G60396      </td><td>2.012082e+13</td><td>2012-G60396 </td><td>JA70003000  </td><td>GPS-TRACK   </td><td>147804      </td><td>NA          </td><td>NA          </td><td>NA          </td></tr>\n",
       "\t<tr><td>OZIX        </td><td>2012082601  </td><td>Lightning   </td><td>  11.7      </td><td>2012        </td><td>2.012083e+13</td><td>2.012083e+13</td><td>G60424      </td><td>2.012082e+13</td><td>2012-G60424 </td><td>JA70003000  </td><td>GPS-TRACK   </td><td>147805      </td><td>NA          </td><td>NA          </td><td>NA          </td></tr>\n",
       "\t<tr><td>OZIX        </td><td>2012100202  </td><td>Lightning   </td><td> 431.4      </td><td>2012        </td><td>2.012100e+13</td><td>2.012100e+13</td><td>N20626      </td><td>2.012093e+13</td><td>2012-N20626 </td><td>JA70003000  </td><td>GPS-TRACK   </td><td>147872      </td><td>NA          </td><td>NA          </td><td>NA          </td></tr>\n",
       "\t<tr><td>OZIX        </td><td>2012091101  </td><td>Person      </td><td>   0.1      </td><td>2012        </td><td>2.012091e+13</td><td>2.012100e+13</td><td>V50708      </td><td>2.012091e+13</td><td>2012-V50708 </td><td>JA70003000  </td><td>GPS-TRACK   </td><td>147873      </td><td>NA          </td><td>NA          </td><td>NA          </td></tr>\n",
       "\t<tr><td>OZIX        </td><td>2012091101  </td><td>Person      </td><td>   0.1      </td><td>2012        </td><td>2.012091e+13</td><td>2.012100e+13</td><td>V80728      </td><td>2.012091e+13</td><td>2012-V80728 </td><td>JA70003000  </td><td>GPS-TRACK   </td><td>147874      </td><td>NA          </td><td>NA          </td><td>NA          </td></tr>\n",
       "\t<tr><td>OZIX        </td><td>2012060201  </td><td>Person      </td><td>   5.8      </td><td>2012        </td><td>2.012100e+13</td><td>2.012100e+13</td><td>K50104      </td><td>2.012060e+13</td><td>2012-K50104 </td><td>JA70003000  </td><td>GPS-TRACK   </td><td>147875      </td><td>NA          </td><td>NA          </td><td>NA          </td></tr>\n",
       "\t<tr><td>OZIX        </td><td>2012042201  </td><td>Person      </td><td>   6.5      </td><td>2012        </td><td>2.012042e+13</td><td>2.012042e+13</td><td>K60034      </td><td>2.012042e+13</td><td>2012-K60034 </td><td>JA70003000  </td><td>GPS-TRACK   </td><td>147952      </td><td>NA          </td><td>NA          </td><td>NA          </td></tr>\n",
       "\t<tr><td>OZIX        </td><td>2012042401  </td><td>Person      </td><td>  56.6      </td><td>2012        </td><td>2.012043e+13</td><td>2.012043e+13</td><td>K60033      </td><td>2.012042e+13</td><td>2012-K60033 </td><td>JA70003000  </td><td>GPS-TRACK   </td><td>147953      </td><td>NA          </td><td>NA          </td><td>NA          </td></tr>\n",
       "\t<tr><td>OZIX        </td><td>2012043001  </td><td>Person      </td><td>  17.7      </td><td>2012        </td><td>2.012050e+13</td><td>2.012050e+13</td><td>G70018      </td><td>2.012043e+13</td><td>2012-G70018 </td><td>JA70003000  </td><td>GPS-TRACK   </td><td>147954      </td><td>NA          </td><td>NA          </td><td>NA          </td></tr>\n",
       "\t<tr><td>OZIX        </td><td>2012050101  </td><td>Person      </td><td>   6.9      </td><td>2012        </td><td>2.012050e+13</td><td>2.012050e+13</td><td>C20016      </td><td>2.012043e+13</td><td>2012-C20016 </td><td>JA70003000  </td><td>GPS-TRACK   </td><td>147955      </td><td>NA          </td><td>NA          </td><td>NA          </td></tr>\n",
       "\t<tr><td>OZIX        </td><td>2012032501  </td><td>Person      </td><td>   9.7      </td><td>2011        </td><td>2.012033e+13</td><td>2.012033e+13</td><td>K20785      </td><td>2.012033e+13</td><td>2011-K20785 </td><td>JA70003000  </td><td>GPS-TRACK   </td><td>147731      </td><td>NA          </td><td>NA          </td><td>NA          </td></tr>\n",
       "\t<tr><td>OZIX        </td><td>2012032301  </td><td>Person      </td><td>   7.1      </td><td>2011        </td><td>2.012033e+13</td><td>2.012033e+13</td><td>K20784      </td><td>2.012032e+13</td><td>2011-K20784 </td><td>JA70003000  </td><td>GPS-TRACK   </td><td>147732      </td><td>NA          </td><td>NA          </td><td>NA          </td></tr>\n",
       "\t<tr><td>OZIX        </td><td>2011062801  </td><td>            </td><td>   6.8      </td><td>2011        </td><td>2.012063e+13</td><td>2.012063e+13</td><td>C10095      </td><td>2.011103e+13</td><td>2011-C10095 </td><td>JA70003000  </td><td>GPS-TRACK   </td><td>147733      </td><td>NA          </td><td>NA          </td><td>NA          </td></tr>\n",
       "\t<tr><td>OZIX        </td><td>2012071801  </td><td>Lightning   </td><td>   1.6      </td><td>2012        </td><td>2.012072e+13</td><td>2.012072e+13</td><td>G90170      </td><td>2.012071e+13</td><td>2012-G90170 </td><td>JA70003000  </td><td>GPS-TRACK   </td><td>147737      </td><td>NA          </td><td>NA          </td><td>NA          </td></tr>\n",
       "\t<tr><td>OZIX        </td><td>2012071901  </td><td>Lightning   </td><td>  16.4      </td><td>2012        </td><td>2.012072e+13</td><td>2.012072e+13</td><td>G90172      </td><td>2.012071e+13</td><td>2012-G90172 </td><td>JA70003000  </td><td>GPS-TRACK   </td><td>147738      </td><td>NA          </td><td>NA          </td><td>NA          </td></tr>\n",
       "\t<tr><td>OZIX        </td><td>2012071801  </td><td>Lightning   </td><td>   7.6      </td><td>2012        </td><td>2.012072e+13</td><td>2.012072e+13</td><td>G90201      </td><td>2.012072e+13</td><td>2012-G90201 </td><td>JA70003000  </td><td>GPS-TRACK   </td><td>147739      </td><td>NA          </td><td>NA          </td><td>NA          </td></tr>\n",
       "\t<tr><td>OZIX        </td><td>2012082601  </td><td>Lightning   </td><td>1827.1      </td><td>2012        </td><td>2.012083e+13</td><td>2.012083e+13</td><td>G90311      </td><td>2.012073e+13</td><td>2012-G90311 </td><td>JA70003000  </td><td>GPS-TRACK   </td><td>147806      </td><td>NA          </td><td>NA          </td><td>NA          </td></tr>\n",
       "\t<tr><td>OZIX        </td><td>2012082601  </td><td>Lightning   </td><td>  45.8      </td><td>2012        </td><td>2.012083e+13</td><td>2.012083e+13</td><td>G90348      </td><td>2.012081e+13</td><td>2012-G90348 </td><td>JA70003000  </td><td>GPS-TRACK   </td><td>147807      </td><td>NA          </td><td>NA          </td><td>NA          </td></tr>\n",
       "\t<tr><td>OZIX        </td><td>2012082501  </td><td>Lightning   </td><td>   1.6      </td><td>2012        </td><td>2.012083e+13</td><td>2.012083e+13</td><td>V30435      </td><td>2.012081e+13</td><td>2012-V30435 </td><td>JA70003000  </td><td>GPS-TRACK   </td><td>147808      </td><td>NA          </td><td>NA          </td><td>NA          </td></tr>\n",
       "\t<tr><td>...</td><td>...</td><td>...</td><td>...</td><td>...</td><td>...</td><td>...</td><td>...</td><td>...</td><td>...</td><td>...</td><td>...</td><td>...</td><td>...</td><td>...</td><td>...</td></tr>\n",
       "\t<tr><td>2017 ROLLOVER                                     </td><td>2017092401                                        </td><td>Lightning                                         </td><td>  160.3                                           </td><td>2017                                              </td><td>2.017092e+13                                      </td><td>2.017093e+13                                      </td><td>N11978                                            </td><td>2.017083e+13                                      </td><td>2017-N11978                                       </td><td>JA70003000                                        </td><td>Non-corrected airborne GPS                        </td><td>149453                                            </td><td>NA                                                </td><td>NA                                                </td><td>NA                                                </td></tr>\n",
       "\t<tr><td>2017 ROLLOVER                                     </td><td>2017092401                                        </td><td>Lightning                                         </td><td> 6271.0                                           </td><td>2017                                              </td><td>2.017092e+13                                      </td><td>2.017092e+13                                      </td><td>N11976                                            </td><td>2.017083e+13                                      </td><td>2017-N11976                                       </td><td>JA70003000                                        </td><td>Non-corrected airborne GPS                        </td><td>149454                                            </td><td>NA                                                </td><td>NA                                                </td><td>NA                                                </td></tr>\n",
       "\t<tr><td>2017 ROLLOVER                                     </td><td>2017091803                                        </td><td>Lightning                                         </td><td> 2262.6                                           </td><td>2017                                              </td><td>2.017092e+13                                      </td><td>2.017092e+13                                      </td><td>N11971                                            </td><td>2.017083e+13                                      </td><td>2017-N11971                                       </td><td>JA70003000                                        </td><td>Non-corrected ground GPS                          </td><td>149455                                            </td><td>NA                                                </td><td>NA                                                </td><td>NA                                                </td></tr>\n",
       "\t<tr><td>2017 ROLLOVER                                     </td><td>2017091601                                        </td><td>Lightning                                         </td><td>15448.8                                           </td><td>2017                                              </td><td>2.017092e+13                                      </td><td>2.017092e+13                                      </td><td>N11966                                            </td><td>2.017083e+13                                      </td><td>2017-N11966                                       </td><td>JA70003000                                        </td><td>Non-corrected airborne GPS                        </td><td>149456                                            </td><td>NA                                                </td><td>NA                                                </td><td>NA                                                </td></tr>\n",
       "\t<tr><td>2017 ROLLOVER                                     </td><td>2017082401                                        </td><td>Lightning                                         </td><td>   17.1                                           </td><td>2017                                              </td><td>2.017082e+13                                      </td><td>2.017102e+13                                      </td><td>K11801                                            </td><td>2.017082e+13                                      </td><td>2017-K11801                                       </td><td>JA70003000                                        </td><td>Non-corrected ground GPS                          </td><td>149523                                            </td><td>NA                                                </td><td>NA                                                </td><td>NA                                                </td></tr>\n",
       "\t<tr><td>2017 ROLLOVER                                     </td><td>2017091801                                        </td><td>Lightning                                         </td><td>  309.1                                           </td><td>2017                                              </td><td>2.017092e+13                                      </td><td>2.017102e+13                                      </td><td>K11633                                            </td><td>2.017072e+13                                      </td><td>2017-K11633                                       </td><td>JA70003000                                        </td><td>Hand sketch of any type                           </td><td>149524                                            </td><td>NA                                                </td><td>NA                                                </td><td>NA                                                </td></tr>\n",
       "\t<tr><td>2017 ROLLOVER                                     </td><td>2017081401                                        </td><td>Lightning                                         </td><td>  891.8                                           </td><td>2017                                              </td><td>2.017081e+13                                      </td><td>2.017082e+13                                      </td><td>K11632                                            </td><td>2.017072e+13                                      </td><td>2017-K11632                                       </td><td>JA70003000                                        </td><td>Non-corrected airborne GPS                        </td><td>149525                                            </td><td>NA                                                </td><td>NA                                                </td><td>NA                                                </td></tr>\n",
       "\t<tr><td>2017 ROLLOVER                                     </td><td>2017080301                                        </td><td>Person                                            </td><td>   31.0                                           </td><td>2017                                              </td><td>2.017080e+13                                      </td><td>2.017081e+13                                      </td><td>K11144                                            </td><td>2.017072e+13                                      </td><td>2017-K11144                                       </td><td>JA70003000                                        </td><td>Non-corrected ground GPS                          </td><td>149526                                            </td><td>NA                                                </td><td>NA                                                </td><td>NA                                                </td></tr>\n",
       "\t<tr><td>2017 ROLLOVER                                     </td><td>2017080201                                        </td><td>Lightning                                         </td><td>    4.8                                           </td><td>2017                                              </td><td>2.017080e+13                                      </td><td>2.017081e+13                                      </td><td>K10848                                            </td><td>2.017071e+13                                      </td><td>2017-K10848                                       </td><td>JA70003000                                        </td><td>Non-corrected ground GPS                          </td><td>149527                                            </td><td>NA                                                </td><td>NA                                                </td><td>NA                                                </td></tr>\n",
       "\t<tr><td>2017 ROLLOVER                                     </td><td>2017071401                                        </td><td>Lightning                                         </td><td>    5.7                                           </td><td>2017                                              </td><td>2.017071e+13                                      </td><td>2.017102e+13                                      </td><td>K10828                                            </td><td>2.017071e+13                                      </td><td>2017-K10828                                       </td><td>JA70003000                                        </td><td>Hand sketch of any type                           </td><td>149528                                            </td><td>NA                                                </td><td>NA                                                </td><td>NA                                                </td></tr>\n",
       "\t<tr><td>2016 ROLLOVER                                     </td><td>2016041801                                        </td><td>Person                                            </td><td>    3.8                                           </td><td>2016                                              </td><td>2.016042e+13                                      </td><td>2.016092e+13                                      </td><td>G10044                                            </td><td>2.016042e+13                                      </td><td>2016-G10044                                       </td><td>JA70003000                                        </td><td>Non-corrected ground GPS                          </td><td>149305                                            </td><td>NA                                                </td><td>NA                                                </td><td>NA                                                </td></tr>\n",
       "\t<tr><td>2016 ROLLOVER                                     </td><td>2016041501                                        </td><td>Person                                            </td><td>    0.5                                           </td><td>2016                                              </td><td>2.016042e+13                                      </td><td>2.016043e+13                                      </td><td>G10024                                            </td><td>2.016042e+13                                      </td><td>2016-G10024                                       </td><td>JA70003000                                        </td><td>Non-corrected ground GPS                          </td><td>149306                                            </td><td>NA                                                </td><td>NA                                                </td><td>NA                                                </td></tr>\n",
       "\t<tr><td>2016 ROLLOVER                                     </td><td>2017032301                                        </td><td>Person                                            </td><td>    0.6                                           </td><td>2016                                              </td><td>2.017032e+13                                      </td><td>2.017040e+13                                      </td><td>C50159                                            </td><td>2.017032e+13                                      </td><td>2016-C50159                                       </td><td>JA70003000                                        </td><td>Corrected ground GPS                              </td><td>149307                                            </td><td>NA                                                </td><td>NA                                                </td><td>NA                                                </td></tr>\n",
       "\t<tr><td>2016 ROLLOVER                                     </td><td>2016080302                                        </td><td>Lightning                                         </td><td>   28.7                                           </td><td>2016                                              </td><td>2.016080e+13                                      </td><td>2.016081e+13                                      </td><td>C50099                                            </td><td>2.016072e+13                                      </td><td>2016-C50099                                       </td><td>JA70003000                                        </td><td>Non-corrected ground GPS                          </td><td>149308                                            </td><td>NA                                                </td><td>NA                                                </td><td>NA                                                </td></tr>\n",
       "\t<tr><td>2016 ROLLOVER                                     </td><td>2016051801                                        </td><td>Lightning                                         </td><td>  199.1                                           </td><td>2016                                              </td><td>2.016052e+13                                      </td><td>2.016052e+13                                      </td><td>C50057                                            </td><td>2.016052e+13                                      </td><td>2016-C50057                                       </td><td>JA70003000                                        </td><td>Non-corrected ground GPS                          </td><td>149309                                            </td><td>NA                                                </td><td>NA                                                </td><td>NA                                                </td></tr>\n",
       "\t<tr><td>2017 ROLLOVER                                     </td><td>2017053001                                        </td><td>Person                                            </td><td>    2.5                                           </td><td>2017                                              </td><td>2.017053e+13                                      </td><td>2.017102e+13                                      </td><td>R10196                                            </td><td>2.017053e+13                                      </td><td>2017-R10196                                       </td><td>JA70003000                                        </td><td>Non-corrected ground GPS                          </td><td>149384                                            </td><td>NA                                                </td><td>NA                                                </td><td>NA                                                </td></tr>\n",
       "\t<tr><td>2017 ROLLOVER                                     </td><td>2017092801                                        </td><td>Person                                            </td><td>    1.7                                           </td><td>2017                                              </td><td>2.017093e+13                                      </td><td>2.017103e+13                                      </td><td>R10058                                            </td><td>2.017043e+13                                      </td><td>2017-R10058                                       </td><td>JA70003000                                        </td><td>Non-corrected ground GPS                          </td><td>149385                                            </td><td>NA                                                </td><td>NA                                                </td><td>NA                                                </td></tr>\n",
       "\t<tr><td>2017 ROLLOVER                                     </td><td>2017100701                                        </td><td>Person                                            </td><td>    2.6                                           </td><td>2017                                              </td><td>2.017101e+13                                      </td><td>2.017103e+13                                      </td><td>N72271                                            </td><td>2.017102e+13                                      </td><td>2017-N72271                                       </td><td>JA70003000                                        </td><td>Non-corrected ground GPS                          </td><td>149386                                            </td><td>NA                                                </td><td>NA                                                </td><td>NA                                                </td></tr>\n",
       "\t<tr><td>2017 ROLLOVER                                     </td><td>2017092601                                        </td><td>Person                                            </td><td>    1.6                                           </td><td>2017                                              </td><td>2.017093e+13                                      </td><td>2.017112e+13                                      </td><td>N72149                                            </td><td>2.017092e+13                                      </td><td>2017-N72149                                       </td><td>JA70003000                                        </td><td>Non-corrected ground GPS                          </td><td>149387                                            </td><td>NA                                                </td><td>NA                                                </td><td>NA                                                </td></tr>\n",
       "\t<tr><td>2017 ROLLOVER                                     </td><td>2017091301                                        </td><td>Lightning                                         </td><td>   20.6                                           </td><td>2017                                              </td><td>2.017091e+13                                      </td><td>2.017091e+13                                      </td><td>N71981                                            </td><td>2.017083e+13                                      </td><td>2017-N71981                                       </td><td>JA70003000                                        </td><td>Non-corrected airborne GPS                        </td><td>149388                                            </td><td>NA                                                </td><td>NA                                                </td><td>NA                                                </td></tr>\n",
       "\t<tr><td>2017 ROLLOVER                                     </td><td>2017102001                                        </td><td>Lightning                                         </td><td> 2213.8                                           </td><td>2017                                              </td><td>2.017102e+13                                      </td><td>2.017103e+13                                      </td><td>N11927                                            </td><td>2.017081e+13                                      </td><td>2017-N11927                                       </td><td>JA70003000                                        </td><td>Hand sketch of any type                           </td><td>149457                                            </td><td>NA                                                </td><td>NA                                                </td><td>NA                                                </td></tr>\n",
       "\t<tr><td>2017 ROLLOVER                                     </td><td>2017091701                                        </td><td>Lightning                                         </td><td> 1285.4                                           </td><td>2017                                              </td><td>2.017092e+13                                      </td><td>2.017092e+13                                      </td><td>N11844                                            </td><td>2.017083e+13                                      </td><td>2017-N11844                                       </td><td>JA70003000                                        </td><td>Processed IR image                                </td><td>149458                                            </td><td>NA                                                </td><td>NA                                                </td><td>NA                                                </td></tr>\n",
       "\t<tr><td>2017 ROLLOVER                                     </td><td>2017090301                                        </td><td>Lightning                                         </td><td>  322.8                                           </td><td>2017                                              </td><td>2.017090e+13                                      </td><td>2.017091e+13                                      </td><td>N11676                                            </td><td>2.017081e+13                                      </td><td>2017-N11676                                       </td><td>JA70003000                                        </td><td>Non-corrected airborne GPS                        </td><td>149459                                            </td><td>NA                                                </td><td>NA                                                </td><td>NA                                                </td></tr>\n",
       "\t<tr><td>2017 ROLLOVER                                     </td><td>2017091602                                        </td><td>Lightning                                         </td><td>11763.7                                           </td><td>2017                                              </td><td>2.017092e+13                                      </td><td>2.017092e+13                                      </td><td>N11664                                            </td><td>2.017081e+13                                      </td><td>2017-N11664                                       </td><td>JA70003000                                        </td><td>Hand sketch of any type                           </td><td>149460                                            </td><td>NA                                                </td><td>NA                                                </td><td>NA                                                </td></tr>\n",
       "\t<tr><td>2017 ROLLOVER                                     </td><td>2017090801                                        </td><td>Lightning                                         </td><td>    0.0                                           </td><td>2017                                              </td><td>2.017091e+13                                      </td><td>2.017091e+13                                      </td><td>N11644                                            </td><td>2.017081e+13                                      </td><td>2017-N11644                                       </td><td>JA70003000                                        </td><td>Unknown                                           </td><td>149461                                            </td><td>NA                                                </td><td>NA                                                </td><td>NA                                                </td></tr>\n",
       "\t<tr><td>2017 ROLLOVER                                     </td><td>2017081801                                        </td><td>Lightning                                         </td><td>    1.4                                           </td><td>2017                                              </td><td>2.017082e+13                                      </td><td>2.017082e+13                                      </td><td>N11643                                            </td><td>2.017081e+13                                      </td><td>2017-N11643                                       </td><td>JA70003000                                        </td><td>Digitized from image                              </td><td>149462                                            </td><td>NA                                                </td><td>NA                                                </td><td>NA                                                </td></tr>\n",
       "\t<tr><td>2017 ROLLOVER                                     </td><td>2017071801                                        </td><td>Lightning                                         </td><td>    4.6                                           </td><td>2017                                              </td><td>2.017072e+13                                      </td><td>2.017072e+13                                      </td><td>K10825                                            </td><td>2.017071e+13                                      </td><td>2017-K10825                                       </td><td>JA70003000                                        </td><td>Non-corrected ground GPS                          </td><td>149529                                            </td><td>NA                                                </td><td>NA                                                </td><td>NA                                                </td></tr>\n",
       "\t<tr><td>2017 ROLLOVER                                     </td><td>2017082301                                        </td><td>Lightning                                         </td><td>   10.8                                           </td><td>2017                                              </td><td>2.017082e+13                                      </td><td>2.017102e+13                                      </td><td>K10668                                            </td><td>2.017070e+13                                      </td><td>2017-K10668                                       </td><td>JA70003000                                        </td><td>Non-corrected ground GPS                          </td><td>149530                                            </td><td>NA                                                </td><td>NA                                                </td><td>NA                                                </td></tr>\n",
       "\t<tr><td>2017 ROLLOVER                                     </td><td>2017101701                                        </td><td>Person                                            </td><td>    0.0                                           </td><td>2017                                              </td><td>2.017102e+13                                      </td><td>2.017102e+13                                      </td><td>G92268                                            </td><td>2.017101e+13                                      </td><td>2017-G92268                                       </td><td>JA70003000                                        </td><td>Ozi                                               </td><td>149531                                            </td><td>NA                                                </td><td>NA                                                </td><td>NA                                                </td></tr>\n",
       "\t<tr><td>2017 ROLLOVER                                     </td><td>2017091601                                        </td><td>Person                                            </td><td>   11.7                                           </td><td>2017                                              </td><td>2.017092e+13                                      </td><td>2.017101e+13                                      </td><td>G92151                                            </td><td>2.017092e+13                                      </td><td>2017-G92151                                       </td><td>JA70003000                                        </td><td>Hand sketch of any type                           </td><td>149532                                            </td><td>NA                                                </td><td>NA                                                </td><td>NA                                                </td></tr>\n",
       "</tbody>\n",
       "</table>\n"
      ],
      "text/latex": [
       "\\begin{tabular}{r|llllllllllllllll}\n",
       " SOURCE & VERSION\\_NO & FIRE\\_CAUSE & SIZE\\_HA & FIRE\\_YEAR & TRACK\\_DATE & LOAD\\_DATE & FIRE\\_NO & FIRE\\_DATE & FIRELABEL & FCODE & METHOD & OBJECTID & SHAPE & X & Y\\\\\n",
       "\\hline\n",
       "\t OZIX         & 2012040701   & Person       &   10.6       & 2012         & 2.012041e+13 & 2.012041e+13 & K60009       & 2.012041e+13 & 2012-K60009  & JA70003000   & GPS-TRACK    & 147949       & NA           & NA           & NA          \\\\\n",
       "\t OZIX         & 2012041701   & Person       &    1.4       & 2012         & 2.012042e+13 & 2.012042e+13 & C50006       & 2.012041e+13 & 2012-C50006  & JA70003000   & GPS-TRACK    & 147950       & NA           & NA           & NA          \\\\\n",
       "\t OZIX         & 2012042202   & Person       &    6.6       & 2012         & 2.012042e+13 & 2.012042e+13 & K60032       & 2.012042e+13 & 2012-K60032  & JA70003000   & GPS-TRACK    & 147951       & NA           & NA           & NA          \\\\\n",
       "\t OZIX         & 2011102701   & Person       &   21.3       & 2011         & 2.011112e+13 & 2.011112e+13 & G40141       & 2.011102e+13 & 2011-G40141  & JA70003000   & GPS-TRACK    & 147723       & NA           & NA           & NA          \\\\\n",
       "\t OZIX         & 2011102801   & Person       &  106.7       & 2011         & 2.011112e+13 & 2.011112e+13 & G40145       & 2.011102e+13 & 2011-G40145  & JA70003000   & GPS-TRACK    & 147724       & NA           & NA           & NA          \\\\\n",
       "\t OZIX         & 2011103101   & Person       &   38.2       & 2011         & 2.011112e+13 & 2.011112e+13 & G40150       & 2.011102e+13 & 2011-G40150  & JA70003000   & GPS-TRACK    & 147725       & NA           & NA           & NA          \\\\\n",
       "\t OZIX         & 2011103101   & Person       &   14.6       & 2011         & 2.011112e+13 & 2.011112e+13 & G40151       & 2.011102e+13 & 2011-G40151  & JA70003000   & GPS-TRACK    & 147726       & NA           & NA           & NA          \\\\\n",
       "\t OZIX         & 2011110201   & Person       &   13.8       & 2011         & 2.011112e+13 & 2.011112e+13 & G40154       & 2.011103e+13 & 2011-G40154  & JA70003000   & GPS-TRACK    & 147727       & NA           & NA           & NA          \\\\\n",
       "\t OZIX         & 2011110202   & Person       &  103.0       & 2011         & 2.011113e+13 & 2.011113e+13 & C10098       & 2.011110e+13 & 2011-C10098  & JA70003000   & GPS-TRACK    & 147728       & NA           & NA           & NA          \\\\\n",
       "\t OZIX         & 2012031001   & Person       &    3.3       & 2011         & 2.012032e+13 & 2.012032e+13 & K20781       & 2.012031e+13 & 2011-K20781  & JA70003000   & GPS-TRACK    & 147729       & NA           & NA           & NA          \\\\\n",
       "\t OZIX         & 2012032201   & Person       &   13.1       & 2011         & 2.012032e+13 & 2.012032e+13 & C40105       & 2.012032e+13 & 2011-C40105  & JA70003000   & GPS-TRACK    & 147730       & NA           & NA           & NA          \\\\\n",
       "\t OZIX         & 2012082601   & Lightning    & 1590.8       & 2012         & 2.012083e+13 & 2.012083e+13 & G60396       & 2.012082e+13 & 2012-G60396  & JA70003000   & GPS-TRACK    & 147804       & NA           & NA           & NA          \\\\\n",
       "\t OZIX         & 2012082601   & Lightning    &   11.7       & 2012         & 2.012083e+13 & 2.012083e+13 & G60424       & 2.012082e+13 & 2012-G60424  & JA70003000   & GPS-TRACK    & 147805       & NA           & NA           & NA          \\\\\n",
       "\t OZIX         & 2012100202   & Lightning    &  431.4       & 2012         & 2.012100e+13 & 2.012100e+13 & N20626       & 2.012093e+13 & 2012-N20626  & JA70003000   & GPS-TRACK    & 147872       & NA           & NA           & NA          \\\\\n",
       "\t OZIX         & 2012091101   & Person       &    0.1       & 2012         & 2.012091e+13 & 2.012100e+13 & V50708       & 2.012091e+13 & 2012-V50708  & JA70003000   & GPS-TRACK    & 147873       & NA           & NA           & NA          \\\\\n",
       "\t OZIX         & 2012091101   & Person       &    0.1       & 2012         & 2.012091e+13 & 2.012100e+13 & V80728       & 2.012091e+13 & 2012-V80728  & JA70003000   & GPS-TRACK    & 147874       & NA           & NA           & NA          \\\\\n",
       "\t OZIX         & 2012060201   & Person       &    5.8       & 2012         & 2.012100e+13 & 2.012100e+13 & K50104       & 2.012060e+13 & 2012-K50104  & JA70003000   & GPS-TRACK    & 147875       & NA           & NA           & NA          \\\\\n",
       "\t OZIX         & 2012042201   & Person       &    6.5       & 2012         & 2.012042e+13 & 2.012042e+13 & K60034       & 2.012042e+13 & 2012-K60034  & JA70003000   & GPS-TRACK    & 147952       & NA           & NA           & NA          \\\\\n",
       "\t OZIX         & 2012042401   & Person       &   56.6       & 2012         & 2.012043e+13 & 2.012043e+13 & K60033       & 2.012042e+13 & 2012-K60033  & JA70003000   & GPS-TRACK    & 147953       & NA           & NA           & NA          \\\\\n",
       "\t OZIX         & 2012043001   & Person       &   17.7       & 2012         & 2.012050e+13 & 2.012050e+13 & G70018       & 2.012043e+13 & 2012-G70018  & JA70003000   & GPS-TRACK    & 147954       & NA           & NA           & NA          \\\\\n",
       "\t OZIX         & 2012050101   & Person       &    6.9       & 2012         & 2.012050e+13 & 2.012050e+13 & C20016       & 2.012043e+13 & 2012-C20016  & JA70003000   & GPS-TRACK    & 147955       & NA           & NA           & NA          \\\\\n",
       "\t OZIX         & 2012032501   & Person       &    9.7       & 2011         & 2.012033e+13 & 2.012033e+13 & K20785       & 2.012033e+13 & 2011-K20785  & JA70003000   & GPS-TRACK    & 147731       & NA           & NA           & NA          \\\\\n",
       "\t OZIX         & 2012032301   & Person       &    7.1       & 2011         & 2.012033e+13 & 2.012033e+13 & K20784       & 2.012032e+13 & 2011-K20784  & JA70003000   & GPS-TRACK    & 147732       & NA           & NA           & NA          \\\\\n",
       "\t OZIX         & 2011062801   &              &    6.8       & 2011         & 2.012063e+13 & 2.012063e+13 & C10095       & 2.011103e+13 & 2011-C10095  & JA70003000   & GPS-TRACK    & 147733       & NA           & NA           & NA          \\\\\n",
       "\t OZIX         & 2012071801   & Lightning    &    1.6       & 2012         & 2.012072e+13 & 2.012072e+13 & G90170       & 2.012071e+13 & 2012-G90170  & JA70003000   & GPS-TRACK    & 147737       & NA           & NA           & NA          \\\\\n",
       "\t OZIX         & 2012071901   & Lightning    &   16.4       & 2012         & 2.012072e+13 & 2.012072e+13 & G90172       & 2.012071e+13 & 2012-G90172  & JA70003000   & GPS-TRACK    & 147738       & NA           & NA           & NA          \\\\\n",
       "\t OZIX         & 2012071801   & Lightning    &    7.6       & 2012         & 2.012072e+13 & 2.012072e+13 & G90201       & 2.012072e+13 & 2012-G90201  & JA70003000   & GPS-TRACK    & 147739       & NA           & NA           & NA          \\\\\n",
       "\t OZIX         & 2012082601   & Lightning    & 1827.1       & 2012         & 2.012083e+13 & 2.012083e+13 & G90311       & 2.012073e+13 & 2012-G90311  & JA70003000   & GPS-TRACK    & 147806       & NA           & NA           & NA          \\\\\n",
       "\t OZIX         & 2012082601   & Lightning    &   45.8       & 2012         & 2.012083e+13 & 2.012083e+13 & G90348       & 2.012081e+13 & 2012-G90348  & JA70003000   & GPS-TRACK    & 147807       & NA           & NA           & NA          \\\\\n",
       "\t OZIX         & 2012082501   & Lightning    &    1.6       & 2012         & 2.012083e+13 & 2.012083e+13 & V30435       & 2.012081e+13 & 2012-V30435  & JA70003000   & GPS-TRACK    & 147808       & NA           & NA           & NA          \\\\\n",
       "\t ... & ... & ... & ... & ... & ... & ... & ... & ... & ... & ... & ... & ... & ... & ... & ...\\\\\n",
       "\t 2017 ROLLOVER                                      & 2017092401                                         & Lightning                                          &   160.3                                            & 2017                                               & 2.017092e+13                                       & 2.017093e+13                                       & N11978                                             & 2.017083e+13                                       & 2017-N11978                                        & JA70003000                                         & Non-corrected airborne GPS                         & 149453                                             & NA                                                 & NA                                                 & NA                                                \\\\\n",
       "\t 2017 ROLLOVER                                      & 2017092401                                         & Lightning                                          &  6271.0                                            & 2017                                               & 2.017092e+13                                       & 2.017092e+13                                       & N11976                                             & 2.017083e+13                                       & 2017-N11976                                        & JA70003000                                         & Non-corrected airborne GPS                         & 149454                                             & NA                                                 & NA                                                 & NA                                                \\\\\n",
       "\t 2017 ROLLOVER                                      & 2017091803                                         & Lightning                                          &  2262.6                                            & 2017                                               & 2.017092e+13                                       & 2.017092e+13                                       & N11971                                             & 2.017083e+13                                       & 2017-N11971                                        & JA70003000                                         & Non-corrected ground GPS                           & 149455                                             & NA                                                 & NA                                                 & NA                                                \\\\\n",
       "\t 2017 ROLLOVER                                      & 2017091601                                         & Lightning                                          & 15448.8                                            & 2017                                               & 2.017092e+13                                       & 2.017092e+13                                       & N11966                                             & 2.017083e+13                                       & 2017-N11966                                        & JA70003000                                         & Non-corrected airborne GPS                         & 149456                                             & NA                                                 & NA                                                 & NA                                                \\\\\n",
       "\t 2017 ROLLOVER                                      & 2017082401                                         & Lightning                                          &    17.1                                            & 2017                                               & 2.017082e+13                                       & 2.017102e+13                                       & K11801                                             & 2.017082e+13                                       & 2017-K11801                                        & JA70003000                                         & Non-corrected ground GPS                           & 149523                                             & NA                                                 & NA                                                 & NA                                                \\\\\n",
       "\t 2017 ROLLOVER                                      & 2017091801                                         & Lightning                                          &   309.1                                            & 2017                                               & 2.017092e+13                                       & 2.017102e+13                                       & K11633                                             & 2.017072e+13                                       & 2017-K11633                                        & JA70003000                                         & Hand sketch of any type                            & 149524                                             & NA                                                 & NA                                                 & NA                                                \\\\\n",
       "\t 2017 ROLLOVER                                      & 2017081401                                         & Lightning                                          &   891.8                                            & 2017                                               & 2.017081e+13                                       & 2.017082e+13                                       & K11632                                             & 2.017072e+13                                       & 2017-K11632                                        & JA70003000                                         & Non-corrected airborne GPS                         & 149525                                             & NA                                                 & NA                                                 & NA                                                \\\\\n",
       "\t 2017 ROLLOVER                                      & 2017080301                                         & Person                                             &    31.0                                            & 2017                                               & 2.017080e+13                                       & 2.017081e+13                                       & K11144                                             & 2.017072e+13                                       & 2017-K11144                                        & JA70003000                                         & Non-corrected ground GPS                           & 149526                                             & NA                                                 & NA                                                 & NA                                                \\\\\n",
       "\t 2017 ROLLOVER                                      & 2017080201                                         & Lightning                                          &     4.8                                            & 2017                                               & 2.017080e+13                                       & 2.017081e+13                                       & K10848                                             & 2.017071e+13                                       & 2017-K10848                                        & JA70003000                                         & Non-corrected ground GPS                           & 149527                                             & NA                                                 & NA                                                 & NA                                                \\\\\n",
       "\t 2017 ROLLOVER                                      & 2017071401                                         & Lightning                                          &     5.7                                            & 2017                                               & 2.017071e+13                                       & 2.017102e+13                                       & K10828                                             & 2.017071e+13                                       & 2017-K10828                                        & JA70003000                                         & Hand sketch of any type                            & 149528                                             & NA                                                 & NA                                                 & NA                                                \\\\\n",
       "\t 2016 ROLLOVER                                      & 2016041801                                         & Person                                             &     3.8                                            & 2016                                               & 2.016042e+13                                       & 2.016092e+13                                       & G10044                                             & 2.016042e+13                                       & 2016-G10044                                        & JA70003000                                         & Non-corrected ground GPS                           & 149305                                             & NA                                                 & NA                                                 & NA                                                \\\\\n",
       "\t 2016 ROLLOVER                                      & 2016041501                                         & Person                                             &     0.5                                            & 2016                                               & 2.016042e+13                                       & 2.016043e+13                                       & G10024                                             & 2.016042e+13                                       & 2016-G10024                                        & JA70003000                                         & Non-corrected ground GPS                           & 149306                                             & NA                                                 & NA                                                 & NA                                                \\\\\n",
       "\t 2016 ROLLOVER                                      & 2017032301                                         & Person                                             &     0.6                                            & 2016                                               & 2.017032e+13                                       & 2.017040e+13                                       & C50159                                             & 2.017032e+13                                       & 2016-C50159                                        & JA70003000                                         & Corrected ground GPS                               & 149307                                             & NA                                                 & NA                                                 & NA                                                \\\\\n",
       "\t 2016 ROLLOVER                                      & 2016080302                                         & Lightning                                          &    28.7                                            & 2016                                               & 2.016080e+13                                       & 2.016081e+13                                       & C50099                                             & 2.016072e+13                                       & 2016-C50099                                        & JA70003000                                         & Non-corrected ground GPS                           & 149308                                             & NA                                                 & NA                                                 & NA                                                \\\\\n",
       "\t 2016 ROLLOVER                                      & 2016051801                                         & Lightning                                          &   199.1                                            & 2016                                               & 2.016052e+13                                       & 2.016052e+13                                       & C50057                                             & 2.016052e+13                                       & 2016-C50057                                        & JA70003000                                         & Non-corrected ground GPS                           & 149309                                             & NA                                                 & NA                                                 & NA                                                \\\\\n",
       "\t 2017 ROLLOVER                                      & 2017053001                                         & Person                                             &     2.5                                            & 2017                                               & 2.017053e+13                                       & 2.017102e+13                                       & R10196                                             & 2.017053e+13                                       & 2017-R10196                                        & JA70003000                                         & Non-corrected ground GPS                           & 149384                                             & NA                                                 & NA                                                 & NA                                                \\\\\n",
       "\t 2017 ROLLOVER                                      & 2017092801                                         & Person                                             &     1.7                                            & 2017                                               & 2.017093e+13                                       & 2.017103e+13                                       & R10058                                             & 2.017043e+13                                       & 2017-R10058                                        & JA70003000                                         & Non-corrected ground GPS                           & 149385                                             & NA                                                 & NA                                                 & NA                                                \\\\\n",
       "\t 2017 ROLLOVER                                      & 2017100701                                         & Person                                             &     2.6                                            & 2017                                               & 2.017101e+13                                       & 2.017103e+13                                       & N72271                                             & 2.017102e+13                                       & 2017-N72271                                        & JA70003000                                         & Non-corrected ground GPS                           & 149386                                             & NA                                                 & NA                                                 & NA                                                \\\\\n",
       "\t 2017 ROLLOVER                                      & 2017092601                                         & Person                                             &     1.6                                            & 2017                                               & 2.017093e+13                                       & 2.017112e+13                                       & N72149                                             & 2.017092e+13                                       & 2017-N72149                                        & JA70003000                                         & Non-corrected ground GPS                           & 149387                                             & NA                                                 & NA                                                 & NA                                                \\\\\n",
       "\t 2017 ROLLOVER                                      & 2017091301                                         & Lightning                                          &    20.6                                            & 2017                                               & 2.017091e+13                                       & 2.017091e+13                                       & N71981                                             & 2.017083e+13                                       & 2017-N71981                                        & JA70003000                                         & Non-corrected airborne GPS                         & 149388                                             & NA                                                 & NA                                                 & NA                                                \\\\\n",
       "\t 2017 ROLLOVER                                      & 2017102001                                         & Lightning                                          &  2213.8                                            & 2017                                               & 2.017102e+13                                       & 2.017103e+13                                       & N11927                                             & 2.017081e+13                                       & 2017-N11927                                        & JA70003000                                         & Hand sketch of any type                            & 149457                                             & NA                                                 & NA                                                 & NA                                                \\\\\n",
       "\t 2017 ROLLOVER                                      & 2017091701                                         & Lightning                                          &  1285.4                                            & 2017                                               & 2.017092e+13                                       & 2.017092e+13                                       & N11844                                             & 2.017083e+13                                       & 2017-N11844                                        & JA70003000                                         & Processed IR image                                 & 149458                                             & NA                                                 & NA                                                 & NA                                                \\\\\n",
       "\t 2017 ROLLOVER                                      & 2017090301                                         & Lightning                                          &   322.8                                            & 2017                                               & 2.017090e+13                                       & 2.017091e+13                                       & N11676                                             & 2.017081e+13                                       & 2017-N11676                                        & JA70003000                                         & Non-corrected airborne GPS                         & 149459                                             & NA                                                 & NA                                                 & NA                                                \\\\\n",
       "\t 2017 ROLLOVER                                      & 2017091602                                         & Lightning                                          & 11763.7                                            & 2017                                               & 2.017092e+13                                       & 2.017092e+13                                       & N11664                                             & 2.017081e+13                                       & 2017-N11664                                        & JA70003000                                         & Hand sketch of any type                            & 149460                                             & NA                                                 & NA                                                 & NA                                                \\\\\n",
       "\t 2017 ROLLOVER                                      & 2017090801                                         & Lightning                                          &     0.0                                            & 2017                                               & 2.017091e+13                                       & 2.017091e+13                                       & N11644                                             & 2.017081e+13                                       & 2017-N11644                                        & JA70003000                                         & Unknown                                            & 149461                                             & NA                                                 & NA                                                 & NA                                                \\\\\n",
       "\t 2017 ROLLOVER                                      & 2017081801                                         & Lightning                                          &     1.4                                            & 2017                                               & 2.017082e+13                                       & 2.017082e+13                                       & N11643                                             & 2.017081e+13                                       & 2017-N11643                                        & JA70003000                                         & Digitized from image                               & 149462                                             & NA                                                 & NA                                                 & NA                                                \\\\\n",
       "\t 2017 ROLLOVER                                      & 2017071801                                         & Lightning                                          &     4.6                                            & 2017                                               & 2.017072e+13                                       & 2.017072e+13                                       & K10825                                             & 2.017071e+13                                       & 2017-K10825                                        & JA70003000                                         & Non-corrected ground GPS                           & 149529                                             & NA                                                 & NA                                                 & NA                                                \\\\\n",
       "\t 2017 ROLLOVER                                      & 2017082301                                         & Lightning                                          &    10.8                                            & 2017                                               & 2.017082e+13                                       & 2.017102e+13                                       & K10668                                             & 2.017070e+13                                       & 2017-K10668                                        & JA70003000                                         & Non-corrected ground GPS                           & 149530                                             & NA                                                 & NA                                                 & NA                                                \\\\\n",
       "\t 2017 ROLLOVER                                      & 2017101701                                         & Person                                             &     0.0                                            & 2017                                               & 2.017102e+13                                       & 2.017102e+13                                       & G92268                                             & 2.017101e+13                                       & 2017-G92268                                        & JA70003000                                         & Ozi                                                & 149531                                             & NA                                                 & NA                                                 & NA                                                \\\\\n",
       "\t 2017 ROLLOVER                                      & 2017091601                                         & Person                                             &    11.7                                            & 2017                                               & 2.017092e+13                                       & 2.017101e+13                                       & G92151                                             & 2.017092e+13                                       & 2017-G92151                                        & JA70003000                                         & Hand sketch of any type                            & 149532                                             & NA                                                 & NA                                                 & NA                                                \\\\\n",
       "\\end{tabular}\n"
      ],
      "text/markdown": [
       "\n",
       "SOURCE | VERSION_NO | FIRE_CAUSE | SIZE_HA | FIRE_YEAR | TRACK_DATE | LOAD_DATE | FIRE_NO | FIRE_DATE | FIRELABEL | FCODE | METHOD | OBJECTID | SHAPE | X | Y | \n",
       "|---|---|---|---|---|---|---|---|---|---|---|---|---|---|---|---|---|---|---|---|---|---|---|---|---|---|---|---|---|---|---|---|---|---|---|---|---|---|---|---|---|---|---|---|---|---|---|---|---|---|---|---|---|---|---|---|---|---|---|---|---|\n",
       "| OZIX         | 2012040701   | Person       |   10.6       | 2012         | 2.012041e+13 | 2.012041e+13 | K60009       | 2.012041e+13 | 2012-K60009  | JA70003000   | GPS-TRACK    | 147949       | NA           | NA           | NA           | \n",
       "| OZIX         | 2012041701   | Person       |    1.4       | 2012         | 2.012042e+13 | 2.012042e+13 | C50006       | 2.012041e+13 | 2012-C50006  | JA70003000   | GPS-TRACK    | 147950       | NA           | NA           | NA           | \n",
       "| OZIX         | 2012042202   | Person       |    6.6       | 2012         | 2.012042e+13 | 2.012042e+13 | K60032       | 2.012042e+13 | 2012-K60032  | JA70003000   | GPS-TRACK    | 147951       | NA           | NA           | NA           | \n",
       "| OZIX         | 2011102701   | Person       |   21.3       | 2011         | 2.011112e+13 | 2.011112e+13 | G40141       | 2.011102e+13 | 2011-G40141  | JA70003000   | GPS-TRACK    | 147723       | NA           | NA           | NA           | \n",
       "| OZIX         | 2011102801   | Person       |  106.7       | 2011         | 2.011112e+13 | 2.011112e+13 | G40145       | 2.011102e+13 | 2011-G40145  | JA70003000   | GPS-TRACK    | 147724       | NA           | NA           | NA           | \n",
       "| OZIX         | 2011103101   | Person       |   38.2       | 2011         | 2.011112e+13 | 2.011112e+13 | G40150       | 2.011102e+13 | 2011-G40150  | JA70003000   | GPS-TRACK    | 147725       | NA           | NA           | NA           | \n",
       "| OZIX         | 2011103101   | Person       |   14.6       | 2011         | 2.011112e+13 | 2.011112e+13 | G40151       | 2.011102e+13 | 2011-G40151  | JA70003000   | GPS-TRACK    | 147726       | NA           | NA           | NA           | \n",
       "| OZIX         | 2011110201   | Person       |   13.8       | 2011         | 2.011112e+13 | 2.011112e+13 | G40154       | 2.011103e+13 | 2011-G40154  | JA70003000   | GPS-TRACK    | 147727       | NA           | NA           | NA           | \n",
       "| OZIX         | 2011110202   | Person       |  103.0       | 2011         | 2.011113e+13 | 2.011113e+13 | C10098       | 2.011110e+13 | 2011-C10098  | JA70003000   | GPS-TRACK    | 147728       | NA           | NA           | NA           | \n",
       "| OZIX         | 2012031001   | Person       |    3.3       | 2011         | 2.012032e+13 | 2.012032e+13 | K20781       | 2.012031e+13 | 2011-K20781  | JA70003000   | GPS-TRACK    | 147729       | NA           | NA           | NA           | \n",
       "| OZIX         | 2012032201   | Person       |   13.1       | 2011         | 2.012032e+13 | 2.012032e+13 | C40105       | 2.012032e+13 | 2011-C40105  | JA70003000   | GPS-TRACK    | 147730       | NA           | NA           | NA           | \n",
       "| OZIX         | 2012082601   | Lightning    | 1590.8       | 2012         | 2.012083e+13 | 2.012083e+13 | G60396       | 2.012082e+13 | 2012-G60396  | JA70003000   | GPS-TRACK    | 147804       | NA           | NA           | NA           | \n",
       "| OZIX         | 2012082601   | Lightning    |   11.7       | 2012         | 2.012083e+13 | 2.012083e+13 | G60424       | 2.012082e+13 | 2012-G60424  | JA70003000   | GPS-TRACK    | 147805       | NA           | NA           | NA           | \n",
       "| OZIX         | 2012100202   | Lightning    |  431.4       | 2012         | 2.012100e+13 | 2.012100e+13 | N20626       | 2.012093e+13 | 2012-N20626  | JA70003000   | GPS-TRACK    | 147872       | NA           | NA           | NA           | \n",
       "| OZIX         | 2012091101   | Person       |    0.1       | 2012         | 2.012091e+13 | 2.012100e+13 | V50708       | 2.012091e+13 | 2012-V50708  | JA70003000   | GPS-TRACK    | 147873       | NA           | NA           | NA           | \n",
       "| OZIX         | 2012091101   | Person       |    0.1       | 2012         | 2.012091e+13 | 2.012100e+13 | V80728       | 2.012091e+13 | 2012-V80728  | JA70003000   | GPS-TRACK    | 147874       | NA           | NA           | NA           | \n",
       "| OZIX         | 2012060201   | Person       |    5.8       | 2012         | 2.012100e+13 | 2.012100e+13 | K50104       | 2.012060e+13 | 2012-K50104  | JA70003000   | GPS-TRACK    | 147875       | NA           | NA           | NA           | \n",
       "| OZIX         | 2012042201   | Person       |    6.5       | 2012         | 2.012042e+13 | 2.012042e+13 | K60034       | 2.012042e+13 | 2012-K60034  | JA70003000   | GPS-TRACK    | 147952       | NA           | NA           | NA           | \n",
       "| OZIX         | 2012042401   | Person       |   56.6       | 2012         | 2.012043e+13 | 2.012043e+13 | K60033       | 2.012042e+13 | 2012-K60033  | JA70003000   | GPS-TRACK    | 147953       | NA           | NA           | NA           | \n",
       "| OZIX         | 2012043001   | Person       |   17.7       | 2012         | 2.012050e+13 | 2.012050e+13 | G70018       | 2.012043e+13 | 2012-G70018  | JA70003000   | GPS-TRACK    | 147954       | NA           | NA           | NA           | \n",
       "| OZIX         | 2012050101   | Person       |    6.9       | 2012         | 2.012050e+13 | 2.012050e+13 | C20016       | 2.012043e+13 | 2012-C20016  | JA70003000   | GPS-TRACK    | 147955       | NA           | NA           | NA           | \n",
       "| OZIX         | 2012032501   | Person       |    9.7       | 2011         | 2.012033e+13 | 2.012033e+13 | K20785       | 2.012033e+13 | 2011-K20785  | JA70003000   | GPS-TRACK    | 147731       | NA           | NA           | NA           | \n",
       "| OZIX         | 2012032301   | Person       |    7.1       | 2011         | 2.012033e+13 | 2.012033e+13 | K20784       | 2.012032e+13 | 2011-K20784  | JA70003000   | GPS-TRACK    | 147732       | NA           | NA           | NA           | \n",
       "| OZIX         | 2011062801   |              |    6.8       | 2011         | 2.012063e+13 | 2.012063e+13 | C10095       | 2.011103e+13 | 2011-C10095  | JA70003000   | GPS-TRACK    | 147733       | NA           | NA           | NA           | \n",
       "| OZIX         | 2012071801   | Lightning    |    1.6       | 2012         | 2.012072e+13 | 2.012072e+13 | G90170       | 2.012071e+13 | 2012-G90170  | JA70003000   | GPS-TRACK    | 147737       | NA           | NA           | NA           | \n",
       "| OZIX         | 2012071901   | Lightning    |   16.4       | 2012         | 2.012072e+13 | 2.012072e+13 | G90172       | 2.012071e+13 | 2012-G90172  | JA70003000   | GPS-TRACK    | 147738       | NA           | NA           | NA           | \n",
       "| OZIX         | 2012071801   | Lightning    |    7.6       | 2012         | 2.012072e+13 | 2.012072e+13 | G90201       | 2.012072e+13 | 2012-G90201  | JA70003000   | GPS-TRACK    | 147739       | NA           | NA           | NA           | \n",
       "| OZIX         | 2012082601   | Lightning    | 1827.1       | 2012         | 2.012083e+13 | 2.012083e+13 | G90311       | 2.012073e+13 | 2012-G90311  | JA70003000   | GPS-TRACK    | 147806       | NA           | NA           | NA           | \n",
       "| OZIX         | 2012082601   | Lightning    |   45.8       | 2012         | 2.012083e+13 | 2.012083e+13 | G90348       | 2.012081e+13 | 2012-G90348  | JA70003000   | GPS-TRACK    | 147807       | NA           | NA           | NA           | \n",
       "| OZIX         | 2012082501   | Lightning    |    1.6       | 2012         | 2.012083e+13 | 2.012083e+13 | V30435       | 2.012081e+13 | 2012-V30435  | JA70003000   | GPS-TRACK    | 147808       | NA           | NA           | NA           | \n",
       "| ... | ... | ... | ... | ... | ... | ... | ... | ... | ... | ... | ... | ... | ... | ... | ... | \n",
       "| 2017 ROLLOVER                                      | 2017092401                                         | Lightning                                          |   160.3                                            | 2017                                               | 2.017092e+13                                       | 2.017093e+13                                       | N11978                                             | 2.017083e+13                                       | 2017-N11978                                        | JA70003000                                         | Non-corrected airborne GPS                         | 149453                                             | NA                                                 | NA                                                 | NA                                                 | \n",
       "| 2017 ROLLOVER                                      | 2017092401                                         | Lightning                                          |  6271.0                                            | 2017                                               | 2.017092e+13                                       | 2.017092e+13                                       | N11976                                             | 2.017083e+13                                       | 2017-N11976                                        | JA70003000                                         | Non-corrected airborne GPS                         | 149454                                             | NA                                                 | NA                                                 | NA                                                 | \n",
       "| 2017 ROLLOVER                                      | 2017091803                                         | Lightning                                          |  2262.6                                            | 2017                                               | 2.017092e+13                                       | 2.017092e+13                                       | N11971                                             | 2.017083e+13                                       | 2017-N11971                                        | JA70003000                                         | Non-corrected ground GPS                           | 149455                                             | NA                                                 | NA                                                 | NA                                                 | \n",
       "| 2017 ROLLOVER                                      | 2017091601                                         | Lightning                                          | 15448.8                                            | 2017                                               | 2.017092e+13                                       | 2.017092e+13                                       | N11966                                             | 2.017083e+13                                       | 2017-N11966                                        | JA70003000                                         | Non-corrected airborne GPS                         | 149456                                             | NA                                                 | NA                                                 | NA                                                 | \n",
       "| 2017 ROLLOVER                                      | 2017082401                                         | Lightning                                          |    17.1                                            | 2017                                               | 2.017082e+13                                       | 2.017102e+13                                       | K11801                                             | 2.017082e+13                                       | 2017-K11801                                        | JA70003000                                         | Non-corrected ground GPS                           | 149523                                             | NA                                                 | NA                                                 | NA                                                 | \n",
       "| 2017 ROLLOVER                                      | 2017091801                                         | Lightning                                          |   309.1                                            | 2017                                               | 2.017092e+13                                       | 2.017102e+13                                       | K11633                                             | 2.017072e+13                                       | 2017-K11633                                        | JA70003000                                         | Hand sketch of any type                            | 149524                                             | NA                                                 | NA                                                 | NA                                                 | \n",
       "| 2017 ROLLOVER                                      | 2017081401                                         | Lightning                                          |   891.8                                            | 2017                                               | 2.017081e+13                                       | 2.017082e+13                                       | K11632                                             | 2.017072e+13                                       | 2017-K11632                                        | JA70003000                                         | Non-corrected airborne GPS                         | 149525                                             | NA                                                 | NA                                                 | NA                                                 | \n",
       "| 2017 ROLLOVER                                      | 2017080301                                         | Person                                             |    31.0                                            | 2017                                               | 2.017080e+13                                       | 2.017081e+13                                       | K11144                                             | 2.017072e+13                                       | 2017-K11144                                        | JA70003000                                         | Non-corrected ground GPS                           | 149526                                             | NA                                                 | NA                                                 | NA                                                 | \n",
       "| 2017 ROLLOVER                                      | 2017080201                                         | Lightning                                          |     4.8                                            | 2017                                               | 2.017080e+13                                       | 2.017081e+13                                       | K10848                                             | 2.017071e+13                                       | 2017-K10848                                        | JA70003000                                         | Non-corrected ground GPS                           | 149527                                             | NA                                                 | NA                                                 | NA                                                 | \n",
       "| 2017 ROLLOVER                                      | 2017071401                                         | Lightning                                          |     5.7                                            | 2017                                               | 2.017071e+13                                       | 2.017102e+13                                       | K10828                                             | 2.017071e+13                                       | 2017-K10828                                        | JA70003000                                         | Hand sketch of any type                            | 149528                                             | NA                                                 | NA                                                 | NA                                                 | \n",
       "| 2016 ROLLOVER                                      | 2016041801                                         | Person                                             |     3.8                                            | 2016                                               | 2.016042e+13                                       | 2.016092e+13                                       | G10044                                             | 2.016042e+13                                       | 2016-G10044                                        | JA70003000                                         | Non-corrected ground GPS                           | 149305                                             | NA                                                 | NA                                                 | NA                                                 | \n",
       "| 2016 ROLLOVER                                      | 2016041501                                         | Person                                             |     0.5                                            | 2016                                               | 2.016042e+13                                       | 2.016043e+13                                       | G10024                                             | 2.016042e+13                                       | 2016-G10024                                        | JA70003000                                         | Non-corrected ground GPS                           | 149306                                             | NA                                                 | NA                                                 | NA                                                 | \n",
       "| 2016 ROLLOVER                                      | 2017032301                                         | Person                                             |     0.6                                            | 2016                                               | 2.017032e+13                                       | 2.017040e+13                                       | C50159                                             | 2.017032e+13                                       | 2016-C50159                                        | JA70003000                                         | Corrected ground GPS                               | 149307                                             | NA                                                 | NA                                                 | NA                                                 | \n",
       "| 2016 ROLLOVER                                      | 2016080302                                         | Lightning                                          |    28.7                                            | 2016                                               | 2.016080e+13                                       | 2.016081e+13                                       | C50099                                             | 2.016072e+13                                       | 2016-C50099                                        | JA70003000                                         | Non-corrected ground GPS                           | 149308                                             | NA                                                 | NA                                                 | NA                                                 | \n",
       "| 2016 ROLLOVER                                      | 2016051801                                         | Lightning                                          |   199.1                                            | 2016                                               | 2.016052e+13                                       | 2.016052e+13                                       | C50057                                             | 2.016052e+13                                       | 2016-C50057                                        | JA70003000                                         | Non-corrected ground GPS                           | 149309                                             | NA                                                 | NA                                                 | NA                                                 | \n",
       "| 2017 ROLLOVER                                      | 2017053001                                         | Person                                             |     2.5                                            | 2017                                               | 2.017053e+13                                       | 2.017102e+13                                       | R10196                                             | 2.017053e+13                                       | 2017-R10196                                        | JA70003000                                         | Non-corrected ground GPS                           | 149384                                             | NA                                                 | NA                                                 | NA                                                 | \n",
       "| 2017 ROLLOVER                                      | 2017092801                                         | Person                                             |     1.7                                            | 2017                                               | 2.017093e+13                                       | 2.017103e+13                                       | R10058                                             | 2.017043e+13                                       | 2017-R10058                                        | JA70003000                                         | Non-corrected ground GPS                           | 149385                                             | NA                                                 | NA                                                 | NA                                                 | \n",
       "| 2017 ROLLOVER                                      | 2017100701                                         | Person                                             |     2.6                                            | 2017                                               | 2.017101e+13                                       | 2.017103e+13                                       | N72271                                             | 2.017102e+13                                       | 2017-N72271                                        | JA70003000                                         | Non-corrected ground GPS                           | 149386                                             | NA                                                 | NA                                                 | NA                                                 | \n",
       "| 2017 ROLLOVER                                      | 2017092601                                         | Person                                             |     1.6                                            | 2017                                               | 2.017093e+13                                       | 2.017112e+13                                       | N72149                                             | 2.017092e+13                                       | 2017-N72149                                        | JA70003000                                         | Non-corrected ground GPS                           | 149387                                             | NA                                                 | NA                                                 | NA                                                 | \n",
       "| 2017 ROLLOVER                                      | 2017091301                                         | Lightning                                          |    20.6                                            | 2017                                               | 2.017091e+13                                       | 2.017091e+13                                       | N71981                                             | 2.017083e+13                                       | 2017-N71981                                        | JA70003000                                         | Non-corrected airborne GPS                         | 149388                                             | NA                                                 | NA                                                 | NA                                                 | \n",
       "| 2017 ROLLOVER                                      | 2017102001                                         | Lightning                                          |  2213.8                                            | 2017                                               | 2.017102e+13                                       | 2.017103e+13                                       | N11927                                             | 2.017081e+13                                       | 2017-N11927                                        | JA70003000                                         | Hand sketch of any type                            | 149457                                             | NA                                                 | NA                                                 | NA                                                 | \n",
       "| 2017 ROLLOVER                                      | 2017091701                                         | Lightning                                          |  1285.4                                            | 2017                                               | 2.017092e+13                                       | 2.017092e+13                                       | N11844                                             | 2.017083e+13                                       | 2017-N11844                                        | JA70003000                                         | Processed IR image                                 | 149458                                             | NA                                                 | NA                                                 | NA                                                 | \n",
       "| 2017 ROLLOVER                                      | 2017090301                                         | Lightning                                          |   322.8                                            | 2017                                               | 2.017090e+13                                       | 2.017091e+13                                       | N11676                                             | 2.017081e+13                                       | 2017-N11676                                        | JA70003000                                         | Non-corrected airborne GPS                         | 149459                                             | NA                                                 | NA                                                 | NA                                                 | \n",
       "| 2017 ROLLOVER                                      | 2017091602                                         | Lightning                                          | 11763.7                                            | 2017                                               | 2.017092e+13                                       | 2.017092e+13                                       | N11664                                             | 2.017081e+13                                       | 2017-N11664                                        | JA70003000                                         | Hand sketch of any type                            | 149460                                             | NA                                                 | NA                                                 | NA                                                 | \n",
       "| 2017 ROLLOVER                                      | 2017090801                                         | Lightning                                          |     0.0                                            | 2017                                               | 2.017091e+13                                       | 2.017091e+13                                       | N11644                                             | 2.017081e+13                                       | 2017-N11644                                        | JA70003000                                         | Unknown                                            | 149461                                             | NA                                                 | NA                                                 | NA                                                 | \n",
       "| 2017 ROLLOVER                                      | 2017081801                                         | Lightning                                          |     1.4                                            | 2017                                               | 2.017082e+13                                       | 2.017082e+13                                       | N11643                                             | 2.017081e+13                                       | 2017-N11643                                        | JA70003000                                         | Digitized from image                               | 149462                                             | NA                                                 | NA                                                 | NA                                                 | \n",
       "| 2017 ROLLOVER                                      | 2017071801                                         | Lightning                                          |     4.6                                            | 2017                                               | 2.017072e+13                                       | 2.017072e+13                                       | K10825                                             | 2.017071e+13                                       | 2017-K10825                                        | JA70003000                                         | Non-corrected ground GPS                           | 149529                                             | NA                                                 | NA                                                 | NA                                                 | \n",
       "| 2017 ROLLOVER                                      | 2017082301                                         | Lightning                                          |    10.8                                            | 2017                                               | 2.017082e+13                                       | 2.017102e+13                                       | K10668                                             | 2.017070e+13                                       | 2017-K10668                                        | JA70003000                                         | Non-corrected ground GPS                           | 149530                                             | NA                                                 | NA                                                 | NA                                                 | \n",
       "| 2017 ROLLOVER                                      | 2017101701                                         | Person                                             |     0.0                                            | 2017                                               | 2.017102e+13                                       | 2.017102e+13                                       | G92268                                             | 2.017101e+13                                       | 2017-G92268                                        | JA70003000                                         | Ozi                                                | 149531                                             | NA                                                 | NA                                                 | NA                                                 | \n",
       "| 2017 ROLLOVER                                      | 2017091601                                         | Person                                             |    11.7                                            | 2017                                               | 2.017092e+13                                       | 2.017101e+13                                       | G92151                                             | 2.017092e+13                                       | 2017-G92151                                        | JA70003000                                         | Hand sketch of any type                            | 149532                                             | NA                                                 | NA                                                 | NA                                                 | \n",
       "\n",
       "\n"
      ],
      "text/plain": [
       "     SOURCE        VERSION_NO FIRE_CAUSE SIZE_HA FIRE_YEAR TRACK_DATE  \n",
       "1    OZIX          2012040701 Person       10.6  2012      2.012041e+13\n",
       "2    OZIX          2012041701 Person        1.4  2012      2.012042e+13\n",
       "3    OZIX          2012042202 Person        6.6  2012      2.012042e+13\n",
       "4    OZIX          2011102701 Person       21.3  2011      2.011112e+13\n",
       "5    OZIX          2011102801 Person      106.7  2011      2.011112e+13\n",
       "6    OZIX          2011103101 Person       38.2  2011      2.011112e+13\n",
       "7    OZIX          2011103101 Person       14.6  2011      2.011112e+13\n",
       "8    OZIX          2011110201 Person       13.8  2011      2.011112e+13\n",
       "9    OZIX          2011110202 Person      103.0  2011      2.011113e+13\n",
       "10   OZIX          2012031001 Person        3.3  2011      2.012032e+13\n",
       "11   OZIX          2012032201 Person       13.1  2011      2.012032e+13\n",
       "12   OZIX          2012082601 Lightning  1590.8  2012      2.012083e+13\n",
       "13   OZIX          2012082601 Lightning    11.7  2012      2.012083e+13\n",
       "14   OZIX          2012100202 Lightning   431.4  2012      2.012100e+13\n",
       "15   OZIX          2012091101 Person        0.1  2012      2.012091e+13\n",
       "16   OZIX          2012091101 Person        0.1  2012      2.012091e+13\n",
       "17   OZIX          2012060201 Person        5.8  2012      2.012100e+13\n",
       "18   OZIX          2012042201 Person        6.5  2012      2.012042e+13\n",
       "19   OZIX          2012042401 Person       56.6  2012      2.012043e+13\n",
       "20   OZIX          2012043001 Person       17.7  2012      2.012050e+13\n",
       "21   OZIX          2012050101 Person        6.9  2012      2.012050e+13\n",
       "22   OZIX          2012032501 Person        9.7  2011      2.012033e+13\n",
       "23   OZIX          2012032301 Person        7.1  2011      2.012033e+13\n",
       "24   OZIX          2011062801               6.8  2011      2.012063e+13\n",
       "25   OZIX          2012071801 Lightning     1.6  2012      2.012072e+13\n",
       "26   OZIX          2012071901 Lightning    16.4  2012      2.012072e+13\n",
       "27   OZIX          2012071801 Lightning     7.6  2012      2.012072e+13\n",
       "28   OZIX          2012082601 Lightning  1827.1  2012      2.012083e+13\n",
       "29   OZIX          2012082601 Lightning    45.8  2012      2.012083e+13\n",
       "30   OZIX          2012082501 Lightning     1.6  2012      2.012083e+13\n",
       "...  ...           ...        ...        ...     ...       ...         \n",
       "2001 2017 ROLLOVER 2017092401 Lightning    160.3 2017      2.017092e+13\n",
       "2002 2017 ROLLOVER 2017092401 Lightning   6271.0 2017      2.017092e+13\n",
       "2003 2017 ROLLOVER 2017091803 Lightning   2262.6 2017      2.017092e+13\n",
       "2004 2017 ROLLOVER 2017091601 Lightning  15448.8 2017      2.017092e+13\n",
       "2005 2017 ROLLOVER 2017082401 Lightning     17.1 2017      2.017082e+13\n",
       "2006 2017 ROLLOVER 2017091801 Lightning    309.1 2017      2.017092e+13\n",
       "2007 2017 ROLLOVER 2017081401 Lightning    891.8 2017      2.017081e+13\n",
       "2008 2017 ROLLOVER 2017080301 Person        31.0 2017      2.017080e+13\n",
       "2009 2017 ROLLOVER 2017080201 Lightning      4.8 2017      2.017080e+13\n",
       "2010 2017 ROLLOVER 2017071401 Lightning      5.7 2017      2.017071e+13\n",
       "2011 2016 ROLLOVER 2016041801 Person         3.8 2016      2.016042e+13\n",
       "2012 2016 ROLLOVER 2016041501 Person         0.5 2016      2.016042e+13\n",
       "2013 2016 ROLLOVER 2017032301 Person         0.6 2016      2.017032e+13\n",
       "2014 2016 ROLLOVER 2016080302 Lightning     28.7 2016      2.016080e+13\n",
       "2015 2016 ROLLOVER 2016051801 Lightning    199.1 2016      2.016052e+13\n",
       "2016 2017 ROLLOVER 2017053001 Person         2.5 2017      2.017053e+13\n",
       "2017 2017 ROLLOVER 2017092801 Person         1.7 2017      2.017093e+13\n",
       "2018 2017 ROLLOVER 2017100701 Person         2.6 2017      2.017101e+13\n",
       "2019 2017 ROLLOVER 2017092601 Person         1.6 2017      2.017093e+13\n",
       "2020 2017 ROLLOVER 2017091301 Lightning     20.6 2017      2.017091e+13\n",
       "2021 2017 ROLLOVER 2017102001 Lightning   2213.8 2017      2.017102e+13\n",
       "2022 2017 ROLLOVER 2017091701 Lightning   1285.4 2017      2.017092e+13\n",
       "2023 2017 ROLLOVER 2017090301 Lightning    322.8 2017      2.017090e+13\n",
       "2024 2017 ROLLOVER 2017091602 Lightning  11763.7 2017      2.017092e+13\n",
       "2025 2017 ROLLOVER 2017090801 Lightning      0.0 2017      2.017091e+13\n",
       "2026 2017 ROLLOVER 2017081801 Lightning      1.4 2017      2.017082e+13\n",
       "2027 2017 ROLLOVER 2017071801 Lightning      4.6 2017      2.017072e+13\n",
       "2028 2017 ROLLOVER 2017082301 Lightning     10.8 2017      2.017082e+13\n",
       "2029 2017 ROLLOVER 2017101701 Person         0.0 2017      2.017102e+13\n",
       "2030 2017 ROLLOVER 2017091601 Person        11.7 2017      2.017092e+13\n",
       "     LOAD_DATE    FIRE_NO FIRE_DATE    FIRELABEL   FCODE     \n",
       "1    2.012041e+13 K60009  2.012041e+13 2012-K60009 JA70003000\n",
       "2    2.012042e+13 C50006  2.012041e+13 2012-C50006 JA70003000\n",
       "3    2.012042e+13 K60032  2.012042e+13 2012-K60032 JA70003000\n",
       "4    2.011112e+13 G40141  2.011102e+13 2011-G40141 JA70003000\n",
       "5    2.011112e+13 G40145  2.011102e+13 2011-G40145 JA70003000\n",
       "6    2.011112e+13 G40150  2.011102e+13 2011-G40150 JA70003000\n",
       "7    2.011112e+13 G40151  2.011102e+13 2011-G40151 JA70003000\n",
       "8    2.011112e+13 G40154  2.011103e+13 2011-G40154 JA70003000\n",
       "9    2.011113e+13 C10098  2.011110e+13 2011-C10098 JA70003000\n",
       "10   2.012032e+13 K20781  2.012031e+13 2011-K20781 JA70003000\n",
       "11   2.012032e+13 C40105  2.012032e+13 2011-C40105 JA70003000\n",
       "12   2.012083e+13 G60396  2.012082e+13 2012-G60396 JA70003000\n",
       "13   2.012083e+13 G60424  2.012082e+13 2012-G60424 JA70003000\n",
       "14   2.012100e+13 N20626  2.012093e+13 2012-N20626 JA70003000\n",
       "15   2.012100e+13 V50708  2.012091e+13 2012-V50708 JA70003000\n",
       "16   2.012100e+13 V80728  2.012091e+13 2012-V80728 JA70003000\n",
       "17   2.012100e+13 K50104  2.012060e+13 2012-K50104 JA70003000\n",
       "18   2.012042e+13 K60034  2.012042e+13 2012-K60034 JA70003000\n",
       "19   2.012043e+13 K60033  2.012042e+13 2012-K60033 JA70003000\n",
       "20   2.012050e+13 G70018  2.012043e+13 2012-G70018 JA70003000\n",
       "21   2.012050e+13 C20016  2.012043e+13 2012-C20016 JA70003000\n",
       "22   2.012033e+13 K20785  2.012033e+13 2011-K20785 JA70003000\n",
       "23   2.012033e+13 K20784  2.012032e+13 2011-K20784 JA70003000\n",
       "24   2.012063e+13 C10095  2.011103e+13 2011-C10095 JA70003000\n",
       "25   2.012072e+13 G90170  2.012071e+13 2012-G90170 JA70003000\n",
       "26   2.012072e+13 G90172  2.012071e+13 2012-G90172 JA70003000\n",
       "27   2.012072e+13 G90201  2.012072e+13 2012-G90201 JA70003000\n",
       "28   2.012083e+13 G90311  2.012073e+13 2012-G90311 JA70003000\n",
       "29   2.012083e+13 G90348  2.012081e+13 2012-G90348 JA70003000\n",
       "30   2.012083e+13 V30435  2.012081e+13 2012-V30435 JA70003000\n",
       "...  ...          ...     ...          ...         ...       \n",
       "2001 2.017093e+13 N11978  2.017083e+13 2017-N11978 JA70003000\n",
       "2002 2.017092e+13 N11976  2.017083e+13 2017-N11976 JA70003000\n",
       "2003 2.017092e+13 N11971  2.017083e+13 2017-N11971 JA70003000\n",
       "2004 2.017092e+13 N11966  2.017083e+13 2017-N11966 JA70003000\n",
       "2005 2.017102e+13 K11801  2.017082e+13 2017-K11801 JA70003000\n",
       "2006 2.017102e+13 K11633  2.017072e+13 2017-K11633 JA70003000\n",
       "2007 2.017082e+13 K11632  2.017072e+13 2017-K11632 JA70003000\n",
       "2008 2.017081e+13 K11144  2.017072e+13 2017-K11144 JA70003000\n",
       "2009 2.017081e+13 K10848  2.017071e+13 2017-K10848 JA70003000\n",
       "2010 2.017102e+13 K10828  2.017071e+13 2017-K10828 JA70003000\n",
       "2011 2.016092e+13 G10044  2.016042e+13 2016-G10044 JA70003000\n",
       "2012 2.016043e+13 G10024  2.016042e+13 2016-G10024 JA70003000\n",
       "2013 2.017040e+13 C50159  2.017032e+13 2016-C50159 JA70003000\n",
       "2014 2.016081e+13 C50099  2.016072e+13 2016-C50099 JA70003000\n",
       "2015 2.016052e+13 C50057  2.016052e+13 2016-C50057 JA70003000\n",
       "2016 2.017102e+13 R10196  2.017053e+13 2017-R10196 JA70003000\n",
       "2017 2.017103e+13 R10058  2.017043e+13 2017-R10058 JA70003000\n",
       "2018 2.017103e+13 N72271  2.017102e+13 2017-N72271 JA70003000\n",
       "2019 2.017112e+13 N72149  2.017092e+13 2017-N72149 JA70003000\n",
       "2020 2.017091e+13 N71981  2.017083e+13 2017-N71981 JA70003000\n",
       "2021 2.017103e+13 N11927  2.017081e+13 2017-N11927 JA70003000\n",
       "2022 2.017092e+13 N11844  2.017083e+13 2017-N11844 JA70003000\n",
       "2023 2.017091e+13 N11676  2.017081e+13 2017-N11676 JA70003000\n",
       "2024 2.017092e+13 N11664  2.017081e+13 2017-N11664 JA70003000\n",
       "2025 2.017091e+13 N11644  2.017081e+13 2017-N11644 JA70003000\n",
       "2026 2.017082e+13 N11643  2.017081e+13 2017-N11643 JA70003000\n",
       "2027 2.017072e+13 K10825  2.017071e+13 2017-K10825 JA70003000\n",
       "2028 2.017102e+13 K10668  2.017070e+13 2017-K10668 JA70003000\n",
       "2029 2.017102e+13 G92268  2.017101e+13 2017-G92268 JA70003000\n",
       "2030 2.017101e+13 G92151  2.017092e+13 2017-G92151 JA70003000\n",
       "     METHOD                                             OBJECTID SHAPE X   Y  \n",
       "1    GPS-TRACK                                          147949   NA    NA  NA \n",
       "2    GPS-TRACK                                          147950   NA    NA  NA \n",
       "3    GPS-TRACK                                          147951   NA    NA  NA \n",
       "4    GPS-TRACK                                          147723   NA    NA  NA \n",
       "5    GPS-TRACK                                          147724   NA    NA  NA \n",
       "6    GPS-TRACK                                          147725   NA    NA  NA \n",
       "7    GPS-TRACK                                          147726   NA    NA  NA \n",
       "8    GPS-TRACK                                          147727   NA    NA  NA \n",
       "9    GPS-TRACK                                          147728   NA    NA  NA \n",
       "10   GPS-TRACK                                          147729   NA    NA  NA \n",
       "11   GPS-TRACK                                          147730   NA    NA  NA \n",
       "12   GPS-TRACK                                          147804   NA    NA  NA \n",
       "13   GPS-TRACK                                          147805   NA    NA  NA \n",
       "14   GPS-TRACK                                          147872   NA    NA  NA \n",
       "15   GPS-TRACK                                          147873   NA    NA  NA \n",
       "16   GPS-TRACK                                          147874   NA    NA  NA \n",
       "17   GPS-TRACK                                          147875   NA    NA  NA \n",
       "18   GPS-TRACK                                          147952   NA    NA  NA \n",
       "19   GPS-TRACK                                          147953   NA    NA  NA \n",
       "20   GPS-TRACK                                          147954   NA    NA  NA \n",
       "21   GPS-TRACK                                          147955   NA    NA  NA \n",
       "22   GPS-TRACK                                          147731   NA    NA  NA \n",
       "23   GPS-TRACK                                          147732   NA    NA  NA \n",
       "24   GPS-TRACK                                          147733   NA    NA  NA \n",
       "25   GPS-TRACK                                          147737   NA    NA  NA \n",
       "26   GPS-TRACK                                          147738   NA    NA  NA \n",
       "27   GPS-TRACK                                          147739   NA    NA  NA \n",
       "28   GPS-TRACK                                          147806   NA    NA  NA \n",
       "29   GPS-TRACK                                          147807   NA    NA  NA \n",
       "30   GPS-TRACK                                          147808   NA    NA  NA \n",
       "...  ...                                                ...      ...   ... ...\n",
       "2001 Non-corrected airborne GPS                         149453   NA    NA  NA \n",
       "2002 Non-corrected airborne GPS                         149454   NA    NA  NA \n",
       "2003 Non-corrected ground GPS                           149455   NA    NA  NA \n",
       "2004 Non-corrected airborne GPS                         149456   NA    NA  NA \n",
       "2005 Non-corrected ground GPS                           149523   NA    NA  NA \n",
       "2006 Hand sketch of any type                            149524   NA    NA  NA \n",
       "2007 Non-corrected airborne GPS                         149525   NA    NA  NA \n",
       "2008 Non-corrected ground GPS                           149526   NA    NA  NA \n",
       "2009 Non-corrected ground GPS                           149527   NA    NA  NA \n",
       "2010 Hand sketch of any type                            149528   NA    NA  NA \n",
       "2011 Non-corrected ground GPS                           149305   NA    NA  NA \n",
       "2012 Non-corrected ground GPS                           149306   NA    NA  NA \n",
       "2013 Corrected ground GPS                               149307   NA    NA  NA \n",
       "2014 Non-corrected ground GPS                           149308   NA    NA  NA \n",
       "2015 Non-corrected ground GPS                           149309   NA    NA  NA \n",
       "2016 Non-corrected ground GPS                           149384   NA    NA  NA \n",
       "2017 Non-corrected ground GPS                           149385   NA    NA  NA \n",
       "2018 Non-corrected ground GPS                           149386   NA    NA  NA \n",
       "2019 Non-corrected ground GPS                           149387   NA    NA  NA \n",
       "2020 Non-corrected airborne GPS                         149388   NA    NA  NA \n",
       "2021 Hand sketch of any type                            149457   NA    NA  NA \n",
       "2022 Processed IR image                                 149458   NA    NA  NA \n",
       "2023 Non-corrected airborne GPS                         149459   NA    NA  NA \n",
       "2024 Hand sketch of any type                            149460   NA    NA  NA \n",
       "2025 Unknown                                            149461   NA    NA  NA \n",
       "2026 Digitized from image                               149462   NA    NA  NA \n",
       "2027 Non-corrected ground GPS                           149529   NA    NA  NA \n",
       "2028 Non-corrected ground GPS                           149530   NA    NA  NA \n",
       "2029 Ozi                                                149531   NA    NA  NA \n",
       "2030 Hand sketch of any type                            149532   NA    NA  NA "
      ]
     },
     "metadata": {},
     "output_type": "display_data"
    }
   ],
   "source": [
    "df.wildfires <- df.wildfires %>% filter(as.numeric(substr(df.wildfires$FIRELABEL, 1, 4)) >= 2011 )\n",
    "df.wildfires"
   ]
  },
  {
   "cell_type": "code",
   "execution_count": 19,
   "metadata": {},
   "outputs": [
    {
     "data": {
      "text/html": [
       "<table>\n",
       "<thead><tr><th scope=col>Month</th><th scope=col>Fire.Area</th></tr></thead>\n",
       "<tbody>\n",
       "\t<tr><td>Apr-11  </td><td>    82.4</td></tr>\n",
       "\t<tr><td>Apr-12  </td><td>   447.4</td></tr>\n",
       "\t<tr><td>Apr-13  </td><td>  2917.7</td></tr>\n",
       "\t<tr><td>Apr-14  </td><td>   674.4</td></tr>\n",
       "\t<tr><td>Apr-15  </td><td>   874.9</td></tr>\n",
       "\t<tr><td>Apr-16  </td><td>112975.1</td></tr>\n",
       "</tbody>\n",
       "</table>\n"
      ],
      "text/latex": [
       "\\begin{tabular}{r|ll}\n",
       " Month & Fire.Area\\\\\n",
       "\\hline\n",
       "\t Apr-11   &     82.4\\\\\n",
       "\t Apr-12   &    447.4\\\\\n",
       "\t Apr-13   &   2917.7\\\\\n",
       "\t Apr-14   &    674.4\\\\\n",
       "\t Apr-15   &    874.9\\\\\n",
       "\t Apr-16   & 112975.1\\\\\n",
       "\\end{tabular}\n"
      ],
      "text/markdown": [
       "\n",
       "Month | Fire.Area | \n",
       "|---|---|---|---|---|---|\n",
       "| Apr-11   |     82.4 | \n",
       "| Apr-12   |    447.4 | \n",
       "| Apr-13   |   2917.7 | \n",
       "| Apr-14   |    674.4 | \n",
       "| Apr-15   |    874.9 | \n",
       "| Apr-16   | 112975.1 | \n",
       "\n",
       "\n"
      ],
      "text/plain": [
       "  Month  Fire.Area\n",
       "1 Apr-11     82.4 \n",
       "2 Apr-12    447.4 \n",
       "3 Apr-13   2917.7 \n",
       "4 Apr-14    674.4 \n",
       "5 Apr-15    874.9 \n",
       "6 Apr-16 112975.1 "
      ]
     },
     "metadata": {},
     "output_type": "display_data"
    }
   ],
   "source": [
    "\n",
    "df.wildfires$YYYY <- substr(df.wildfires$FIRELABEL, 1, 4) # Extracting calendar year of incident\n",
    "df.wildfires$MM <- substr(df.wildfires$FIRE_DATE, 6,7)    # Extracting calendar month of incident\n",
    "\n",
    "# Mapping short month name to month index MM\n",
    "MM <- c(\"01\",\"02\",\"03\",\"04\",\"05\",\"06\",\"07\",\"08\",\"09\",\"10\",\"11\",\"12\")\n",
    "Mmm <- c(\"Jan\", \"Feb\", \"Mar\", \"Apr\", \"May\", \"Jun\", \"Jul\", \"Aug\", \"Sep\", \"Oct\", \"Nov\", \"Dec\")\n",
    "df.Mmm <- data.frame(MM, Mmm)\n",
    "\n",
    "df.wildfires <- merge(df.wildfires, df.Mmm, by = \"MM\")\n",
    "df.wildfires$Month <- paste0(df.wildfires$Mmm, \"-\", substr(df.wildfires$YYYY,3,4))\n",
    "\n",
    "# Grouping Fire Size by Month\n",
    "df.wildfires <- df.wildfires %>% group_by(Month) %>% summarize (Fire.Area = sum(SIZE_HA))\n",
    "head(df.wildfires)"
   ]
  },
  {
   "cell_type": "markdown",
   "metadata": {},
   "source": [
    "Now we can merge wildfire data with our main data frame using columns YYYY and Mmm as a key."
   ]
  },
  {
   "cell_type": "code",
   "execution_count": 20,
   "metadata": {},
   "outputs": [
    {
     "data": {
      "text/html": [
       "<table>\n",
       "<thead><tr><th scope=col>Month</th><th scope=col>Mmm</th><th scope=col>MEDate</th><th scope=col>YYYY</th><th scope=col>Site</th><th scope=col>ProductGroup</th><th scope=col>CostElement</th><th scope=col>CAD.MT</th><th scope=col>CAD.USD</th><th scope=col>USD.MT</th><th scope=col>USD.MT.lagged</th><th scope=col>Seasonality</th><th scope=col>Avg.Seasonality</th><th scope=col>Fire.Area</th></tr></thead>\n",
       "<tbody>\n",
       "\t<tr><td>Apr-11    </td><td>Apr       </td><td>2011-04-30</td><td>2011      </td><td>16        </td><td>A1658     </td><td>Chips     </td><td>124.18    </td><td>0.9582    </td><td>129.59716 </td><td>126.7356  </td><td>2.861548  </td><td>5.312485  </td><td>    82.4  </td></tr>\n",
       "\t<tr><td>Apr-12    </td><td>Apr       </td><td>2012-04-30</td><td>2012      </td><td>16        </td><td>A1658     </td><td>Chips     </td><td>126.85    </td><td>0.9926    </td><td>127.79569 </td><td>118.7846  </td><td>9.011102  </td><td>5.312485  </td><td>   447.4  </td></tr>\n",
       "\t<tr><td>Apr-13    </td><td>Apr       </td><td>2013-04-30</td><td>2013      </td><td>16        </td><td>A1658     </td><td>Chips     </td><td>126.11    </td><td>1.0187    </td><td>123.79503 </td><td>119.2349  </td><td>4.560135  </td><td>5.312485  </td><td>  2917.7  </td></tr>\n",
       "\t<tr><td>Apr-14    </td><td>Apr       </td><td>2014-04-30</td><td>2014      </td><td>16        </td><td>A1658     </td><td>Chips     </td><td>130.55    </td><td>1.0991    </td><td>118.77900 </td><td>113.0548  </td><td>5.724171  </td><td>5.312485  </td><td>   674.4  </td></tr>\n",
       "\t<tr><td>Apr-15    </td><td>Apr       </td><td>2015-04-30</td><td>2015      </td><td>16        </td><td>A1658     </td><td>Chips     </td><td>129.88    </td><td>1.2331    </td><td>105.32804 </td><td>100.0634  </td><td>5.264639  </td><td>5.312485  </td><td>   874.9  </td></tr>\n",
       "\t<tr><td>Apr-16    </td><td>Apr       </td><td>2016-04-30</td><td>2016      </td><td>16        </td><td>A1658     </td><td>Chips     </td><td>124.68    </td><td>1.2819    </td><td> 97.26188 </td><td> 90.7455  </td><td>6.516376  </td><td>5.312485  </td><td>112975.1  </td></tr>\n",
       "</tbody>\n",
       "</table>\n"
      ],
      "text/latex": [
       "\\begin{tabular}{r|llllllllllllll}\n",
       " Month & Mmm & MEDate & YYYY & Site & ProductGroup & CostElement & CAD.MT & CAD.USD & USD.MT & USD.MT.lagged & Seasonality & Avg.Seasonality & Fire.Area\\\\\n",
       "\\hline\n",
       "\t Apr-11     & Apr        & 2011-04-30 & 2011       & 16         & A1658      & Chips      & 124.18     & 0.9582     & 129.59716  & 126.7356   & 2.861548   & 5.312485   &     82.4  \\\\\n",
       "\t Apr-12     & Apr        & 2012-04-30 & 2012       & 16         & A1658      & Chips      & 126.85     & 0.9926     & 127.79569  & 118.7846   & 9.011102   & 5.312485   &    447.4  \\\\\n",
       "\t Apr-13     & Apr        & 2013-04-30 & 2013       & 16         & A1658      & Chips      & 126.11     & 1.0187     & 123.79503  & 119.2349   & 4.560135   & 5.312485   &   2917.7  \\\\\n",
       "\t Apr-14     & Apr        & 2014-04-30 & 2014       & 16         & A1658      & Chips      & 130.55     & 1.0991     & 118.77900  & 113.0548   & 5.724171   & 5.312485   &    674.4  \\\\\n",
       "\t Apr-15     & Apr        & 2015-04-30 & 2015       & 16         & A1658      & Chips      & 129.88     & 1.2331     & 105.32804  & 100.0634   & 5.264639   & 5.312485   &    874.9  \\\\\n",
       "\t Apr-16     & Apr        & 2016-04-30 & 2016       & 16         & A1658      & Chips      & 124.68     & 1.2819     &  97.26188  &  90.7455   & 6.516376   & 5.312485   & 112975.1  \\\\\n",
       "\\end{tabular}\n"
      ],
      "text/markdown": [
       "\n",
       "Month | Mmm | MEDate | YYYY | Site | ProductGroup | CostElement | CAD.MT | CAD.USD | USD.MT | USD.MT.lagged | Seasonality | Avg.Seasonality | Fire.Area | \n",
       "|---|---|---|---|---|---|\n",
       "| Apr-11     | Apr        | 2011-04-30 | 2011       | 16         | A1658      | Chips      | 124.18     | 0.9582     | 129.59716  | 126.7356   | 2.861548   | 5.312485   |     82.4   | \n",
       "| Apr-12     | Apr        | 2012-04-30 | 2012       | 16         | A1658      | Chips      | 126.85     | 0.9926     | 127.79569  | 118.7846   | 9.011102   | 5.312485   |    447.4   | \n",
       "| Apr-13     | Apr        | 2013-04-30 | 2013       | 16         | A1658      | Chips      | 126.11     | 1.0187     | 123.79503  | 119.2349   | 4.560135   | 5.312485   |   2917.7   | \n",
       "| Apr-14     | Apr        | 2014-04-30 | 2014       | 16         | A1658      | Chips      | 130.55     | 1.0991     | 118.77900  | 113.0548   | 5.724171   | 5.312485   |    674.4   | \n",
       "| Apr-15     | Apr        | 2015-04-30 | 2015       | 16         | A1658      | Chips      | 129.88     | 1.2331     | 105.32804  | 100.0634   | 5.264639   | 5.312485   |    874.9   | \n",
       "| Apr-16     | Apr        | 2016-04-30 | 2016       | 16         | A1658      | Chips      | 124.68     | 1.2819     |  97.26188  |  90.7455   | 6.516376   | 5.312485   | 112975.1   | \n",
       "\n",
       "\n"
      ],
      "text/plain": [
       "  Month  Mmm MEDate     YYYY Site ProductGroup CostElement CAD.MT CAD.USD\n",
       "1 Apr-11 Apr 2011-04-30 2011 16   A1658        Chips       124.18 0.9582 \n",
       "2 Apr-12 Apr 2012-04-30 2012 16   A1658        Chips       126.85 0.9926 \n",
       "3 Apr-13 Apr 2013-04-30 2013 16   A1658        Chips       126.11 1.0187 \n",
       "4 Apr-14 Apr 2014-04-30 2014 16   A1658        Chips       130.55 1.0991 \n",
       "5 Apr-15 Apr 2015-04-30 2015 16   A1658        Chips       129.88 1.2331 \n",
       "6 Apr-16 Apr 2016-04-30 2016 16   A1658        Chips       124.68 1.2819 \n",
       "  USD.MT    USD.MT.lagged Seasonality Avg.Seasonality Fire.Area\n",
       "1 129.59716 126.7356      2.861548    5.312485            82.4 \n",
       "2 127.79569 118.7846      9.011102    5.312485           447.4 \n",
       "3 123.79503 119.2349      4.560135    5.312485          2917.7 \n",
       "4 118.77900 113.0548      5.724171    5.312485           674.4 \n",
       "5 105.32804 100.0634      5.264639    5.312485           874.9 \n",
       "6  97.26188  90.7455      6.516376    5.312485        112975.1 "
      ]
     },
     "metadata": {},
     "output_type": "display_data"
    }
   ],
   "source": [
    "data <- merge(data, df.wildfires, by = \"Month\")\n",
    "head(data)"
   ]
  },
  {
   "cell_type": "markdown",
   "metadata": {},
   "source": [
    "Calculate regression for Chips Costs against "
   ]
  },
  {
   "cell_type": "code",
   "execution_count": 21,
   "metadata": {},
   "outputs": [
    {
     "data": {
      "text/plain": [
       "\n",
       "Call:\n",
       "lm(formula = data$CAD.MT ~ data$Avg.Seasonality + data$YYYY + \n",
       "    data$CAD.USD + data$Fire.Area)\n",
       "\n",
       "Residuals:\n",
       "     Min       1Q   Median       3Q      Max \n",
       "-15.9602  -3.8115   0.1661   4.1129  13.6696 \n",
       "\n",
       "Coefficients:\n",
       "                       Estimate Std. Error t value Pr(>|t|)  \n",
       "(Intercept)          -1.028e+03  2.330e+03  -0.441   0.6608  \n",
       "data$Avg.Seasonality  4.635e-01  2.302e-01   2.014   0.0490 *\n",
       "data$YYYY             5.627e-01  1.165e+00   0.483   0.6311  \n",
       "data$CAD.USD          1.511e+01  1.631e+01   0.927   0.3581  \n",
       "data$Fire.Area        1.065e-05  5.788e-06   1.839   0.0713 .\n",
       "---\n",
       "Signif. codes:  0 '***' 0.001 '**' 0.01 '*' 0.05 '.' 0.1 ' ' 1\n",
       "\n",
       "Residual standard error: 6.397 on 55 degrees of freedom\n",
       "Multiple R-squared:  0.3078,\tAdjusted R-squared:  0.2574 \n",
       "F-statistic: 6.113 on 4 and 55 DF,  p-value: 0.0003828\n"
      ]
     },
     "metadata": {},
     "output_type": "display_data"
    }
   ],
   "source": [
    "lrmodel4 <- lm(data$CAD.MT ~ data$Avg.Seasonality + data$YYYY + data$CAD.USD + data$Fire.Area)\n",
    "summary(lrmodel4)"
   ]
  },
  {
   "cell_type": "code",
   "execution_count": null,
   "metadata": {},
   "outputs": [],
   "source": []
  }
 ],
 "metadata": {
  "kernelspec": {
   "display_name": "R",
   "language": "R",
   "name": "ir"
  },
  "language_info": {
   "codemirror_mode": "r",
   "file_extension": ".r",
   "mimetype": "text/x-r-source",
   "name": "R",
   "pygments_lexer": "r",
   "version": "3.4.3"
  }
 },
 "nbformat": 4,
 "nbformat_minor": 2
}
